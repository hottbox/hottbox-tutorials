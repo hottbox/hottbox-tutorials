{
 "cells": [
  {
   "cell_type": "markdown",
   "metadata": {},
   "source": [
    "# Multi-dimensional arrays and **Tensor** class\n",
    "### Last modification (13.05.2018).\n",
    "\n",
    "\n",
    "In this tutorial we will show the core data structures of multidimenaional arrays within tensor algebra and illustrate how they are integrated into [hottbox](https://github.com/hottbox/hottbox). For more details visit the [documentation page](https://hottbox.github.io/stable/api/hottbox.core.html#module-hottbox.core).\n",
    "\n",
    "**Requirements:** ``hottbox>=0.1.2``\n",
    "\n",
    "**Author:** Ilya Kisil - ilyakisil@gmail.com"
   ]
  },
  {
   "cell_type": "code",
   "execution_count": 1,
   "metadata": {},
   "outputs": [],
   "source": [
    "import numpy as np\n",
    "from hottbox.core import Tensor"
   ]
  },
  {
   "cell_type": "markdown",
   "metadata": {},
   "source": [
    "![tensors](./images/tensors.png)"
   ]
  },
  {
   "cell_type": "markdown",
   "metadata": {},
   "source": [
    "Tensor is a multi-dimenaional array of data where each dimension is conventionally referred to as **mode**. Its order is defined by the number of its modes which is equivivalent to the number of indices required to identify a particular entry of a multi-dimensional array.\n",
    "For example, an element of a third order tensor $\\mathbf{\\underline{X}} \\in \\mathbb{R}^{I \\times J \\times K}$ can be written in general form as:\n",
    "\n",
    "$$ x_{ijk} = \\mathbf{\\underline{X}}[i, j, k]$$\n",
    "\n",
    "In order to create tensor using ``hottbox``, you simply need to pass numpy ndarray to the constructor of the ``Tensor`` class. \n",
    "\n",
    "This will allow you to use top level API for the most common properties and operations on the tensor itself that correspond to the conventional definitions. \n",
    "\n",
    "> **Note:** In order to be consistent with python indexing, count of modes starts from zeros."
   ]
  },
  {
   "cell_type": "code",
   "execution_count": 2,
   "metadata": {},
   "outputs": [
    {
     "data": {
      "text/plain": [
       "array([[[ 0,  1,  2,  3],\n",
       "        [ 4,  5,  6,  7],\n",
       "        [ 8,  9, 10, 11]],\n",
       "\n",
       "       [[12, 13, 14, 15],\n",
       "        [16, 17, 18, 19],\n",
       "        [20, 21, 22, 23]]])"
      ]
     },
     "execution_count": 2,
     "metadata": {},
     "output_type": "execute_result"
    }
   ],
   "source": [
    "array_3d = np.arange(24).reshape((2, 3, 4))\n",
    "tensor = Tensor(array_3d)\n",
    "tensor.data"
   ]
  },
  {
   "cell_type": "markdown",
   "metadata": {},
   "source": [
    "As mentioned previously, the conventional names of the tensor characteristics (e.g. order, shape, size) are preserved for the objects of **`Tensor`** class."
   ]
  },
  {
   "cell_type": "code",
   "execution_count": 3,
   "metadata": {},
   "outputs": [
    {
     "name": "stdout",
     "output_type": "stream",
     "text": [
      "This tensor is of order 3.\n",
      "The sizes of its modes are (2, 3, 4) respectively.\n",
      "It consists of 24 elemetns.\n",
      "Its Frobenious norm = 65.76\n",
      "Mode names = OrderedDict([(0, 'mode-0'), (1, 'mode-1'), (2, 'mode-2')])\n"
     ]
    }
   ],
   "source": [
    "print('This tensor is of order {}.'.format(tensor.order))\n",
    "print('The sizes of its modes are {} respectively.'.format(tensor.shape))\n",
    "print('It consists of {} elemetns.'.format(tensor.size))\n",
    "print('Its Frobenious norm = {:.2f}'.format(tensor.frob_norm))\n",
    "print('Mode names = {}'.format(tensor.mode_names))"
   ]
  },
  {
   "cell_type": "markdown",
   "metadata": {},
   "source": [
    "During the data exploratory analysis, you can call method ``describe()`` in order to get a quick summary of the object of **Tensor** class"
   ]
  },
  {
   "cell_type": "code",
   "execution_count": 4,
   "metadata": {},
   "outputs": [
    {
     "name": "stdout",
     "output_type": "stream",
     "text": [
      "This tensor is of order 3, consists of 24 elements and its Frobenious norm = 65.76.\n",
      "Sizes and names of its modes are (2, 3, 4) and {0: 'mode-0', 1: 'mode-1', 2: 'mode-2'} respectively.\n"
     ]
    }
   ],
   "source": [
    "tensor.describe()"
   ]
  },
  {
   "cell_type": "markdown",
   "metadata": {},
   "source": [
    "> **Note:** attribute **``mode_names``** is reserved for functionalities that will be implemented in future releases of ``hottbox`` and will be explained in the corresponding tutorials"
   ]
  },
  {
   "cell_type": "markdown",
   "metadata": {},
   "source": [
    "# Fundamental operations with the obejcts of **Tensor** class"
   ]
  },
  {
   "cell_type": "markdown",
   "metadata": {},
   "source": [
    "Next, let's have a look at the fundamental operation with a tensor and how to apply them to the object of class **``Tensor``**. We shall start from defining the main substructures of a tensor. \n",
    "For ease of visualisation and compact notation, we consider a third order tensor $\\mathbf{\\underline{X}} \\in \\mathbb{R}^{I \\times J \\times K}$.\n",
    "\n",
    "![tensor_substructures](./images/tensor_substructures.png)\n",
    "\n",
    "1. A **fiber** is a vector obtained by fixing all but one of the indices, e.g.  $\\mathbf{\\underline{X}}[i,:,k]$ is the mode-2 fiber (usually refered to as row fiber). \n",
    "\n",
    "- Fixing all but two of the indices yields a matrix called a **slice** of a tensor, e.g. $\\mathbf{\\underline{X}}[:,:,k]$ is the mode-[1,2] slice (usually refered to as frontal slice).\n",
    "\n",
    "> **Note:** The same principals and definitions can be applied to a tensor of arbitrarily large order. On top of that, one can obtain a **subtensor** by fixing at least three indecies and let other vary."
   ]
  },
  {
   "cell_type": "markdown",
   "metadata": {},
   "source": [
    "### **Unfolding a tensor**\n",
    "\n",
    "Conventionally, unfolding is considered to be a process of element mapping from a tensor to a matrix. In other words, it arranges the mode-$n$ fibers of a tensor to be the columns of the matrix and denoted as:\n",
    "\n",
    "$$\\mathbf{\\underline{A}} \\xrightarrow{n} \\mathbf{A}_{(n)}$$\n",
    "\n",
    "Thus, this operations requires to specify a mode along which a tensor will be unfolded. For a third order tensor, a visually representation of such operation is as following:\n",
    "\n",
    "![unfolding](./images/unfolding.png)\n",
    "\n",
    "> **Note:** it can be extended to a more general case, when one converts a tensor of order $N$ into a tensor of order $M$ where $N > M$. In this case, one would need to specify a set of modes along which a tensor will be unfolded. \n",
    "\n",
    "In **``hottbox``** this functionality is available through the corresponding methods of the **``Tensor``** class:\n",
    "\n",
    "```python\n",
    "tensor.unfold(mode=0)\n",
    "```\n",
    "\n",
    "By default, it changes the state of a tensor. If you want to get unfolded tensor as a new object then use the following:\n",
    "\n",
    "```python\n",
    "tensor_unfolded = tensor.unfold(mode=0, inplace=False)\n",
    "```"
   ]
  },
  {
   "cell_type": "code",
   "execution_count": 5,
   "metadata": {},
   "outputs": [
    {
     "data": {
      "text/plain": [
       "array([[[ 0,  1,  2,  3],\n",
       "        [ 4,  5,  6,  7],\n",
       "        [ 8,  9, 10, 11]],\n",
       "\n",
       "       [[12, 13, 14, 15],\n",
       "        [16, 17, 18, 19],\n",
       "        [20, 21, 22, 23]]])"
      ]
     },
     "execution_count": 5,
     "metadata": {},
     "output_type": "execute_result"
    }
   ],
   "source": [
    "array_3d = np.arange(24).reshape((2, 3, 4))\n",
    "tensor = Tensor(array_3d)\n",
    "tensor.data"
   ]
  },
  {
   "cell_type": "code",
   "execution_count": 6,
   "metadata": {},
   "outputs": [
    {
     "data": {
      "text/plain": [
       "array([[ 0,  1,  2,  3,  4,  5,  6,  7,  8,  9, 10, 11],\n",
       "       [12, 13, 14, 15, 16, 17, 18, 19, 20, 21, 22, 23]])"
      ]
     },
     "execution_count": 6,
     "metadata": {},
     "output_type": "execute_result"
    }
   ],
   "source": [
    "tensor_unfolded = tensor.unfold(mode=0, inplace=False)\n",
    "tensor_unfolded.data"
   ]
  },
  {
   "cell_type": "code",
   "execution_count": 7,
   "metadata": {},
   "outputs": [
    {
     "data": {
      "text/plain": [
       "array([[ 0,  1,  2,  3, 12, 13, 14, 15],\n",
       "       [ 4,  5,  6,  7, 16, 17, 18, 19],\n",
       "       [ 8,  9, 10, 11, 20, 21, 22, 23]])"
      ]
     },
     "execution_count": 7,
     "metadata": {},
     "output_type": "execute_result"
    }
   ],
   "source": [
    "tensor_unfolded = tensor.unfold(mode=1, inplace=False)\n",
    "tensor_unfolded.data"
   ]
  },
  {
   "cell_type": "code",
   "execution_count": 8,
   "metadata": {},
   "outputs": [
    {
     "data": {
      "text/plain": [
       "array([[ 0,  4,  8, 12, 16, 20],\n",
       "       [ 1,  5,  9, 13, 17, 21],\n",
       "       [ 2,  6, 10, 14, 18, 22],\n",
       "       [ 3,  7, 11, 15, 19, 23]])"
      ]
     },
     "execution_count": 8,
     "metadata": {},
     "output_type": "execute_result"
    }
   ],
   "source": [
    "tensor_unfolded = tensor.unfold(mode=2, inplace=False)\n",
    "tensor_unfolded.data"
   ]
  },
  {
   "cell_type": "code",
   "execution_count": 9,
   "metadata": {},
   "outputs": [
    {
     "data": {
      "text/plain": [
       "array([[ 0,  4,  8, 12, 16, 20],\n",
       "       [ 1,  5,  9, 13, 17, 21],\n",
       "       [ 2,  6, 10, 14, 18, 22],\n",
       "       [ 3,  7, 11, 15, 19, 23]])"
      ]
     },
     "execution_count": 9,
     "metadata": {},
     "output_type": "execute_result"
    }
   ],
   "source": [
    "tensor.unfold(mode=2)\n",
    "tensor.data"
   ]
  },
  {
   "cell_type": "code",
   "execution_count": 10,
   "metadata": {},
   "outputs": [
    {
     "data": {
      "text/plain": [
       "False"
      ]
     },
     "execution_count": 10,
     "metadata": {},
     "output_type": "execute_result"
    }
   ],
   "source": [
    "tensor_unfolded is tensor"
   ]
  },
  {
   "cell_type": "markdown",
   "metadata": {},
   "source": [
    "### **Folding of a tensor**\n",
    "\n",
    "Folding is most commonly referred to a process of element mapping from a matrix or a vector to a tensor. However, it can be extended to a more general case, when one converts a tensor of order $N$ into a tensor of order $M$ where $N < M$.\n",
    "\n",
    "![folding](./images/folding.png)\n",
    "\n",
    "In **``hottbox``** this functionality is available through the corresponding methods of the **``Tensor``** class:\n",
    "\n",
    "```python\n",
    "tensor_unfolded.fold()\n",
    "```\n",
    "\n",
    "By default, it changes the state of a tensor. If you want to get folded tensor as a new object then use the following:\n",
    "\n",
    "```python\n",
    "tensor_folded = tensor_unfolded.fold(inplace=False)\n",
    "```\n",
    "\n",
    "> **Note:** in **``hottbox``** v0.1.1 this functionality merely reverts the unfolding operation."
   ]
  },
  {
   "cell_type": "code",
   "execution_count": 11,
   "metadata": {},
   "outputs": [
    {
     "data": {
      "text/plain": [
       "array([[[ 0,  1,  2,  3],\n",
       "        [ 4,  5,  6,  7],\n",
       "        [ 8,  9, 10, 11]],\n",
       "\n",
       "       [[12, 13, 14, 15],\n",
       "        [16, 17, 18, 19],\n",
       "        [20, 21, 22, 23]]])"
      ]
     },
     "execution_count": 11,
     "metadata": {},
     "output_type": "execute_result"
    }
   ],
   "source": [
    "array_3d = np.arange(24).reshape((2, 3, 4))\n",
    "tensor = Tensor(array_3d)\n",
    "tensor.data"
   ]
  },
  {
   "cell_type": "code",
   "execution_count": 12,
   "metadata": {},
   "outputs": [
    {
     "data": {
      "text/plain": [
       "array([[ 0,  1,  2,  3, 12, 13, 14, 15],\n",
       "       [ 4,  5,  6,  7, 16, 17, 18, 19],\n",
       "       [ 8,  9, 10, 11, 20, 21, 22, 23]])"
      ]
     },
     "execution_count": 12,
     "metadata": {},
     "output_type": "execute_result"
    }
   ],
   "source": [
    "tensor_unfolded = tensor.unfold(mode=1, inplace=False)\n",
    "tensor_unfolded.data"
   ]
  },
  {
   "cell_type": "code",
   "execution_count": 13,
   "metadata": {},
   "outputs": [
    {
     "data": {
      "text/plain": [
       "array([[[ 0,  1,  2,  3],\n",
       "        [ 4,  5,  6,  7],\n",
       "        [ 8,  9, 10, 11]],\n",
       "\n",
       "       [[12, 13, 14, 15],\n",
       "        [16, 17, 18, 19],\n",
       "        [20, 21, 22, 23]]])"
      ]
     },
     "execution_count": 13,
     "metadata": {},
     "output_type": "execute_result"
    }
   ],
   "source": [
    "tensor_folded = tensor_unfolded.fold(inplace=False)\n",
    "tensor_folded.data"
   ]
  },
  {
   "cell_type": "code",
   "execution_count": 14,
   "metadata": {},
   "outputs": [
    {
     "data": {
      "text/plain": [
       "array([[ 0,  1,  2,  3, 12, 13, 14, 15],\n",
       "       [ 4,  5,  6,  7, 16, 17, 18, 19],\n",
       "       [ 8,  9, 10, 11, 20, 21, 22, 23]])"
      ]
     },
     "execution_count": 14,
     "metadata": {},
     "output_type": "execute_result"
    }
   ],
   "source": [
    "tensor.unfold(mode=1)\n",
    "tensor.data"
   ]
  },
  {
   "cell_type": "code",
   "execution_count": 15,
   "metadata": {},
   "outputs": [
    {
     "data": {
      "text/plain": [
       "array([[[ 0,  1,  2,  3],\n",
       "        [ 4,  5,  6,  7],\n",
       "        [ 8,  9, 10, 11]],\n",
       "\n",
       "       [[12, 13, 14, 15],\n",
       "        [16, 17, 18, 19],\n",
       "        [20, 21, 22, 23]]])"
      ]
     },
     "execution_count": 15,
     "metadata": {},
     "output_type": "execute_result"
    }
   ],
   "source": [
    "tensor.fold()\n",
    "tensor.data"
   ]
  },
  {
   "cell_type": "markdown",
   "metadata": {},
   "source": [
    "### **Mode-n product**\n",
    "\n",
    "The mode-$n$ product is the multiplication of a tensor  by a matrix along the $n^{th}$ mode of a tensor. This essentially means that each mode-$n$ fiber should be multiplied by this matrix. Mathematically, this is expressed as:\n",
    "\n",
    "$$\\mathbf{\\underline{X}} \\times_n \\mathbf{A} = \\mathbf{\\underline{Y}} \\quad \\Leftrightarrow  \\quad \\mathbf{Y}_{(n)} = \\mathbf{A} \\mathbf{X}_{(n)}  $$\n",
    "\n",
    "![mode_n_product](./images/mode_n_product.png)\n",
    "\n",
    "Important properties of the mode-$n$ product:\n",
    "\n",
    "1. For distinct modes in a series of multiplications, the order of the multiplication is irrelevent: \n",
    "\n",
    "    $$\\mathbf{\\underline{X}} \\times_n \\mathbf{A} \\times_m \\mathbf{B} = \\mathbf{\\underline{X}} \\times_m \\mathbf{B} \\times_n \\mathbf{A} \\quad (m \\neq n)$$\n",
    "\n",
    "- However, it does not hold if the modes are the same :\n",
    "\n",
    "    $$\\mathbf{\\underline{X}} \\times_n \\mathbf{A} \\times_n \\mathbf{B} = \\mathbf{\\underline{X}} \\times_n (\\mathbf{B}\\mathbf{A})$$\n",
    "\n",
    "In **``hottbox``** mode-$n$ product is available through the corresponding method of the **``Tensor``** class:\n",
    "\n",
    "```python\n",
    "tensor.mode_n_product(matrix, mode=n)\n",
    "```\n",
    "\n",
    "By default, it changes the state of a tensor. If you want to get an unfolded copy of a tensor then use the following:\n",
    "\n",
    "```python\n",
    "tensor.mode_n_product(matrix, mode=n, inplace=False)\n",
    "```\n",
    "\n",
    "In the following example, we will consider the sequence of mode-$n$ products:\n",
    "\n",
    "$$\\mathbf{\\underline{X}} \\times_2 \\mathbf{A} \\times_3 \\mathbf{B} = \\mathbf{\\underline{Y}}$$\n",
    "$$\\mathbf{\\underline{X}} \\times_3 \\mathbf{B} \\times_2 \\mathbf{A} = \\mathbf{\\underline{Z}}$$\n",
    "\n",
    "Where $\\mathbf{\\underline{X}} \\in \\mathbb{R}^{2 \\times 3 \\times 4}, \\mathbf{A} \\in \\mathbb{R}^{5 \\times 3}$ and $\\mathbf{B} \\in \\mathbb{R}^{6 \\times 4}$. Thus, the resulting tensors $\\mathbf{\\underline{Y}}, \\mathbf{\\underline{Z}}$ will be equal and of shape (2,5,6), e.g. $\\mathbf{\\underline{Y}} \\in \\mathbb{R}^{2 \\times 6 \\times 5}$\n",
    "\n",
    "> **Note:** in **``hottbox``** v0.1.2 a **``matrix``** should be a numpy array."
   ]
  },
  {
   "cell_type": "code",
   "execution_count": 3,
   "metadata": {},
   "outputs": [
    {
     "name": "stdout",
     "output_type": "stream",
     "text": [
      "The initial shape of tensor X is (2, 3, 4)\n"
     ]
    }
   ],
   "source": [
    "I, J, K = 2, 3, 4\n",
    "J_new, K_new = 5, 6\n",
    "\n",
    "array_3d = np.arange(I * J * K).reshape(I, J ,K)\n",
    "X = Tensor(array_3d)\n",
    "\n",
    "A = np.arange(J_new * J).reshape(J_new, J)\n",
    "B = np.arange(K_new * K).reshape(K_new, K)\n",
    "\n",
    "print('The initial shape of tensor X is {}'.format(X.shape))"
   ]
  },
  {
   "cell_type": "markdown",
   "metadata": {},
   "source": [
    "In order to perform a sequence of mode-$n$ products, simply chain methods. "
   ]
  },
  {
   "cell_type": "code",
   "execution_count": 17,
   "metadata": {},
   "outputs": [],
   "source": [
    "Y = X.mode_n_product(A, mode=1, inplace=False).mode_n_product(B, mode=2, inplace=False)\n",
    "\n",
    "# Perform mode-n product in reversed order\n",
    "Z = X.mode_n_product(B, mode=2, inplace=False).mode_n_product(A, mode=1, inplace=False)"
   ]
  },
  {
   "cell_type": "markdown",
   "metadata": {},
   "source": [
    "Here, despite the **`Y`** and **`Z`** are being different objects, their data values will remain the same."
   ]
  },
  {
   "cell_type": "code",
   "execution_count": 18,
   "metadata": {},
   "outputs": [
    {
     "name": "stdout",
     "output_type": "stream",
     "text": [
      "The shape of tensor Y is (2, 5, 6)\n",
      "The shape of tensor Z is (2, 5, 6)\n",
      "The underlying data arrays are equal for both of them:\n"
     ]
    },
    {
     "data": {
      "text/plain": [
       "array([[[0, 0, 0, 0, 0, 0],\n",
       "        [0, 0, 0, 0, 0, 0],\n",
       "        [0, 0, 0, 0, 0, 0],\n",
       "        [0, 0, 0, 0, 0, 0],\n",
       "        [0, 0, 0, 0, 0, 0]],\n",
       "\n",
       "       [[0, 0, 0, 0, 0, 0],\n",
       "        [0, 0, 0, 0, 0, 0],\n",
       "        [0, 0, 0, 0, 0, 0],\n",
       "        [0, 0, 0, 0, 0, 0],\n",
       "        [0, 0, 0, 0, 0, 0]]])"
      ]
     },
     "execution_count": 18,
     "metadata": {},
     "output_type": "execute_result"
    }
   ],
   "source": [
    "print('The shape of tensor Y is {}'.format(Y.shape))\n",
    "print('The shape of tensor Z is {}'.format(Z.shape))\n",
    "print('The underlying data arrays are equal for both of them:')\n",
    "Y.data - Z.data"
   ]
  },
  {
   "cell_type": "markdown",
   "metadata": {},
   "source": [
    "Here we will change the state of the original tensor, instead of creating new objects of **`Tensor`** class."
   ]
  },
  {
   "cell_type": "code",
   "execution_count": 19,
   "metadata": {},
   "outputs": [
    {
     "name": "stdout",
     "output_type": "stream",
     "text": [
      "The shape of tensor X is (2, 5, 6)\n",
      "The underlying data array is equal to the previously obtained:\n"
     ]
    },
    {
     "data": {
      "text/plain": [
       "array([[[0, 0, 0, 0, 0, 0],\n",
       "        [0, 0, 0, 0, 0, 0],\n",
       "        [0, 0, 0, 0, 0, 0],\n",
       "        [0, 0, 0, 0, 0, 0],\n",
       "        [0, 0, 0, 0, 0, 0]],\n",
       "\n",
       "       [[0, 0, 0, 0, 0, 0],\n",
       "        [0, 0, 0, 0, 0, 0],\n",
       "        [0, 0, 0, 0, 0, 0],\n",
       "        [0, 0, 0, 0, 0, 0],\n",
       "        [0, 0, 0, 0, 0, 0]]])"
      ]
     },
     "execution_count": 19,
     "metadata": {},
     "output_type": "execute_result"
    }
   ],
   "source": [
    "X.mode_n_product(A, mode=1).mode_n_product(B, mode=2)\n",
    "print('The shape of tensor X is {}'.format(X.shape))\n",
    "print('The underlying data array is equal to the previously obtained:')\n",
    "X.data - Y.data"
   ]
  },
  {
   "cell_type": "markdown",
   "metadata": {},
   "source": [
    "As expected, the result remains the same."
   ]
  },
  {
   "cell_type": "markdown",
   "metadata": {},
   "source": [
    "## Additional notes on API of **Tensor** class\n",
    "\n",
    "1. When object of **`Tensor`** class is created, the data values are stored in **`_data`** attribute and should only be accessed by calling the corresponding property **`data`**, as has been shown previously. \n",
    "\n",
    "- If you want to modify these values, then call the corresponding transformation method available for the **`Tensor`** class.\n",
    "\n",
    "- In order to create a duplicate of an object of **`Tensor`** class then use method **`copy()`**"
   ]
  }
 ],
 "metadata": {
  "kernelspec": {
   "display_name": "Python 3",
   "language": "python",
   "name": "python3"
  },
  "language_info": {
   "codemirror_mode": {
    "name": "ipython",
    "version": 3
   },
   "file_extension": ".py",
   "mimetype": "text/x-python",
   "name": "python",
   "nbconvert_exporter": "python",
   "pygments_lexer": "ipython3",
   "version": "3.6.0"
  }
 },
 "nbformat": 4,
 "nbformat_minor": 2
}
