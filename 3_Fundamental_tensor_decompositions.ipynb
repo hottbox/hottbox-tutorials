{
 "cells": [
  {
   "cell_type": "markdown",
   "metadata": {},
   "source": [
    "# Fundamental tensor decompositions.\n",
    "### Last modification (13.05.2018)\n",
    "\n",
    "\n",
    "In this tutorial we provide a theoretical backgound on the fundamental tensor\n",
    "decompositions of multidimensional arrays and show how these data algorithms\n",
    "can be used with [hottbox](https://github.com/hottbox/hottbox) through **CPD**, **HOSVD**, **HOOI** and **TTSVD** classes.\n",
    "\n",
    "More details on **CPD**, **HOSVD**, **HOOI** and **TTSVD** classes can be found on the [documentation page](https://hottbox.github.io/stable/api/hottbox.algorithms.decomposition).\n",
    "\n",
    "> **Note:** this tutorial assumes that you are familiar with the basics of \n",
    "tensor algebra, tensor representaitons in different forms and the corresponding conventional \n",
    "notation. If you are new to these topics, check out our previous tutorials:\n",
    "[tutorial_1](https://github.com/hottbox/hottbox-tutorials/blob/master/1_N-dimensional_arrays_and_Tensor_class.ipynb) and \n",
    "[tutorial_2](https://github.com/hottbox/hottbox-tutorials/blob/master/2_Efficient_representations_of_tensors.ipynb).\n",
    "\n",
    "**Requirements:** ``hottbox>=0.1.2``\n",
    "\n",
    "**Author:** Ilya Kisil - ilyakisil@gmail.com"
   ]
  },
  {
   "cell_type": "code",
   "execution_count": 1,
   "metadata": {},
   "outputs": [],
   "source": [
    "import numpy as np\n",
    "from hottbox.core import Tensor, residual_tensor\n",
    "from hottbox.algorithms.decomposition import TTSVD, HOSVD, HOOI, CPD\n",
    "from hottbox.metrics import residual_rel_error"
   ]
  },
  {
   "cell_type": "markdown",
   "metadata": {},
   "source": [
    "# Fundamental tensor decompositions and their implementation\n",
    "\n",
    "The following algorithms have been implemented in **``hottbox>=0.1.2``**:\n",
    "\n",
    "- CPD: produces instance of **TensorCPD** class\n",
    "- HOSVD: produces instance of **TensorTKD** class\n",
    "- HOOI: produces instance of **TensorTKD** class\n",
    "- TTSVD: produces instance of **TensorTT** class\n",
    "\n",
    "> **Note:** more background is coming soon"
   ]
  },
  {
   "cell_type": "markdown",
   "metadata": {},
   "source": [
    "In this tutorial we use the following randomly generated $3$-rd order tensor for our examples."
   ]
  },
  {
   "cell_type": "code",
   "execution_count": 2,
   "metadata": {},
   "outputs": [],
   "source": [
    "np.random.seed(0)\n",
    "I, J, K = 5, 6, 7\n",
    "\n",
    "# array_3d = np.arange(I * J * K).reshape((I, J, K)).astype(np.float)\n",
    "array_3d = np.random.rand(I * J * K).reshape((I, J, K)).astype(np.float)\n",
    "\n",
    "tensor = Tensor(array_3d)"
   ]
  },
  {
   "cell_type": "markdown",
   "metadata": {},
   "source": [
    "# Canonical Polyadic Decomposition (CPD)\n",
    "![tensorcpd](./images/TensorCPD.png)"
   ]
  },
  {
   "cell_type": "markdown",
   "metadata": {},
   "source": [
    "The CPD decomposition (also referred to as PARAFAC or CANDECOMP) factorizes an $N$-th order tensor $\\mathbf{\\underline{X}} \\in \\mathbb{R}^{I_1 \\times I_2 \\times \\cdots \\times I_N}$ into a linear combination of terms $\\mathbf{b}_r^{(1)} \\circ \\mathbf{b}_r^{(2)} \\circ \\cdots \\circ \\mathbf{b}_r^{(N)}$, which are rank-$1$ tensors. In other words the tensor $\\mathbf{\\underline{X}}$ is decomposed as\n",
    "\n",
    "\\begin{equation}\n",
    "\\begin{aligned}\n",
    "\\mathbf{\\underline{X}} & \\simeq \\sum_{r=1}^{R} \\lambda_r \\mathbf{b}_r^{(1)} \\circ \\mathbf{b}_r^{(2)} \\circ \\cdots \\circ \\mathbf{b}_r^{(N)}\\\\\n",
    "& = \\mathbf{\\underline{\\Lambda}} \\times_1 \\mathbf{\\underline{B}}^{(1)} \\times_2 \\mathbf{\\underline{B}}^{(2)} \\cdots \\times_N \\mathbf{\\underline{B}}^{(N)} \\\\\n",
    "& = \\Big[    \\mathbf{\\underline{\\Lambda}} ;  \\mathbf{\\underline{B}}^{(1)} ,  \\mathbf{\\underline{B}}^{(2)}, \\dots, \\mathbf{\\underline{B}}^{(N)}         \\Big]\n",
    "\\end{aligned}\n",
    "\\end{equation}\n",
    "where $\\mathbf{\\underline{B}^{(N)}}  = \\Big[    \\mathbf{b}^{(n)}_1 \\hspace{2mm} \\mathbf{b}^{(n)}_2  \\cdots \\mathbf{b}^{(n)}_R   \\Big] $ i.e. the concatenation of the corresponding vectors. In case of $3$-rd order tensors, for convention, we let $ \\mathbf{A} \\colon = \\mathbf{B}^{(1)}$,  $\\mathbf{B} \\colon = \\mathbf{B}^{(2)}$, $\\mathbf{C} \\colon = \\mathbf{B}^{(3)}$. $\\mathbf{\\underline{\\Lambda}}$ is an $N$-th order tensor having $\\lambda_r$ as entries in positions $\\mathbf{\\underline{\\Lambda}}(i_1, i_2, \\dots, i_N)$, where $i_1 = i_2 = \\cdots = i_N$, and zeroes elsewhere. \n"
   ]
  },
  {
   "cell_type": "markdown",
   "metadata": {},
   "source": [
    "In **``hottbox``** this form is available through the **``TensorCPD``** class.\n",
    "In order to create such object, you have 2 options:\n",
    "\n",
    "\n",
    "1) (See $\\textit{Efficient representation of multidimensional arrays}$\n",
    ") Pass a list of factor matrices (2d ``numpy`` arrays) and a vector of values (as 1d ``numpy`` array) for the main diagonal:\n",
    "\n",
    "```python\n",
    "tensor_cpd = TensorCPD(fmat=[A, B, C], core_values=values)\n",
    "```\n",
    "\n",
    "2) Decompose an original tensor using class CPD\n",
    "\n",
    "In this tutorial, we focus on point (2).\n"
   ]
  },
  {
   "cell_type": "markdown",
   "metadata": {},
   "source": [
    "To decompose a tensor using the CPD decomposition we create an instance of the CPD class and set a Kruskal rank $R$. The Kruskal rank is passed as a tuple so to keep the same format with other tensor decompositions."
   ]
  },
  {
   "cell_type": "code",
   "execution_count": 3,
   "metadata": {},
   "outputs": [
    {
     "data": {
      "text/plain": [
       "hottbox.core.structures.TensorCPD"
      ]
     },
     "execution_count": 3,
     "metadata": {},
     "output_type": "execute_result"
    }
   ],
   "source": [
    "cpd = CPD()\n",
    "R = (5,)\n",
    "\n",
    "tensor_cpd = cpd.decompose(tensor, R)\n",
    "type(tensor_cpd)"
   ]
  },
  {
   "cell_type": "markdown",
   "metadata": {},
   "source": [
    "A **``TensorCPD``** object contains the $\\mathbf{\\underline{\\Lambda}}$ values stored in property **``core``**, while the factor matrices $\\mathbf{B}^{(n)}$ are stored in property **``fmat``**."
   ]
  },
  {
   "cell_type": "code",
   "execution_count": 13,
   "metadata": {},
   "outputs": [
    {
     "name": "stdout",
     "output_type": "stream",
     "text": [
      "Factor matrices\n",
      "Mode-0 factor matrix is of shape (5, 5)\n",
      "Mode-1 factor matrix is of shape (6, 5)\n",
      "Mode-2 factor matrix is of shape (7, 5)\n",
      "\n",
      "Core tensor\n",
      "<class 'hottbox.core.structures.Tensor'>\n",
      "This tensor is of order 3, consists of 125 elements and its Frobenious norm = 2.24.\n",
      "Sizes and names of its modes are (5, 5, 5) and {0: 'mode-0', 1: 'mode-1', 2: 'mode-2'} respectively.\n"
     ]
    },
    {
     "data": {
      "text/plain": [
       "array([[[1., 0., 0., 0., 0.],\n",
       "        [0., 0., 0., 0., 0.],\n",
       "        [0., 0., 0., 0., 0.],\n",
       "        [0., 0., 0., 0., 0.],\n",
       "        [0., 0., 0., 0., 0.]],\n",
       "\n",
       "       [[0., 0., 0., 0., 0.],\n",
       "        [0., 1., 0., 0., 0.],\n",
       "        [0., 0., 0., 0., 0.],\n",
       "        [0., 0., 0., 0., 0.],\n",
       "        [0., 0., 0., 0., 0.]],\n",
       "\n",
       "       [[0., 0., 0., 0., 0.],\n",
       "        [0., 0., 0., 0., 0.],\n",
       "        [0., 0., 1., 0., 0.],\n",
       "        [0., 0., 0., 0., 0.],\n",
       "        [0., 0., 0., 0., 0.]],\n",
       "\n",
       "       [[0., 0., 0., 0., 0.],\n",
       "        [0., 0., 0., 0., 0.],\n",
       "        [0., 0., 0., 0., 0.],\n",
       "        [0., 0., 0., 1., 0.],\n",
       "        [0., 0., 0., 0., 0.]],\n",
       "\n",
       "       [[0., 0., 0., 0., 0.],\n",
       "        [0., 0., 0., 0., 0.],\n",
       "        [0., 0., 0., 0., 0.],\n",
       "        [0., 0., 0., 0., 0.],\n",
       "        [0., 0., 0., 0., 1.]]])"
      ]
     },
     "execution_count": 13,
     "metadata": {},
     "output_type": "execute_result"
    }
   ],
   "source": [
    "print('Factor matrices')\n",
    "for mode, fmat in enumerate(tensor_cpd.fmat):\n",
    "    print('Mode-{} factor matrix is of shape {}'.format(mode, fmat.shape))\n",
    "    \n",
    "print('\\nCore tensor')\n",
    "print(type(tensor_cpd.core))\n",
    "tensor_cpd.core.describe()\n",
    "tensor_cpd.core.data"
   ]
  },
  {
   "cell_type": "markdown",
   "metadata": {},
   "source": [
    "In order to convert **``TensorCPD``** into the full representation, simply call: \n",
    "\n",
    "```python\n",
    "tensor_cpd.reconstruct\n",
    "```\n",
    "\n",
    "This return an object of the **``Tensor``** class with N-dimensional array calculated as \n",
    "described above and being assinged to the **``_data``** attibute."
   ]
  },
  {
   "cell_type": "code",
   "execution_count": 15,
   "metadata": {},
   "outputs": [
    {
     "name": "stdout",
     "output_type": "stream",
     "text": [
      "<class 'hottbox.core.structures.Tensor'>\n",
      "This tensor is of order 3, consists of 210 elements and its Frobenious norm = 7.89.\n",
      "Sizes and names of its modes are (5, 6, 7) and {0: 'mode-0', 1: 'mode-1', 2: 'mode-2'} respectively.\n"
     ]
    },
    {
     "data": {
      "text/plain": [
       "array([[[ 0.4601365 ,  0.38423614,  0.48859033,  0.62131001,\n",
       "          0.54691852,  0.58361213,  0.49159456],\n",
       "        [ 0.67292687,  0.59403672,  0.72678594,  0.81013743,\n",
       "          0.55605843,  0.32617485,  0.70367859],\n",
       "        [ 0.18032852,  0.2861196 ,  0.27910407,  0.76039979,\n",
       "          0.48426828,  0.95862907,  0.76088009],\n",
       "        [ 0.94275828,  0.47486318,  0.84605741,  0.22145674,\n",
       "          0.74691123,  0.33027761,  0.85913182],\n",
       "        [ 0.45441219,  0.43541838,  0.44517452,  0.96472375,\n",
       "          0.58478457,  0.73463438,  0.17714534],\n",
       "        [ 0.45427474,  0.46247196,  0.48368908,  0.86823801,\n",
       "          0.42910584,  0.48006745,  0.61487742]],\n",
       "\n",
       "       [[ 0.47081601,  0.39236953,  0.48652466,  0.50159374,\n",
       "          0.34103943,  0.12672599,  0.42371199],\n",
       "        [ 0.29345678,  0.40894483,  0.37908318,  0.78503303,\n",
       "          0.27212222,  0.27169589,  0.40563341],\n",
       "        [ 0.4420933 ,  0.29975187,  0.45217461,  0.22632031,\n",
       "          0.27859889,  0.13801009,  0.94171161],\n",
       "        [ 0.01498676,  0.24786276,  0.0844294 ,  0.89393356,\n",
       "          0.19967897,  0.58802092,  0.16166343],\n",
       "        [ 0.91076881,  0.58724627,  0.81590211,  0.55693963,\n",
       "          0.5490293 , -0.06358466,  0.32232241],\n",
       "        [ 0.33823591,  0.32545425,  0.34133127,  0.5759124 ,\n",
       "          0.24138596,  0.22856314,  0.50931255]],\n",
       "\n",
       "       [[ 0.48659283,  0.19642773,  0.45382688,  0.07685709,\n",
       "          0.6560565 ,  0.67656229,  0.50586642],\n",
       "        [ 0.5468369 ,  0.33369345,  0.48134738,  0.47530317,\n",
       "          0.54459852,  0.52581631,  0.48058783],\n",
       "        [ 0.7378477 ,  0.24904487,  0.54564687,  0.26161465,\n",
       "          0.88202595,  0.96151773,  0.41633592],\n",
       "        [ 0.71866826,  0.38832804,  0.77655633,  0.07931564,\n",
       "          0.86653609,  0.59785196,  0.65310837],\n",
       "        [ 0.50064368,  0.52490378,  0.81676185,  0.30383764,\n",
       "          0.72324416,  0.38970218,  0.72677154],\n",
       "        [ 0.6696495 ,  0.63127667,  0.79941551,  0.76557249,\n",
       "          0.63490261,  0.28347198,  0.47641221]],\n",
       "\n",
       "       [[ 0.38510936,  0.26436343,  0.40030296,  0.34078558,\n",
       "          0.48887554,  0.49933974,  0.39181717],\n",
       "        [ 0.55160744,  0.34524931,  0.45415136,  0.53700733,\n",
       "          0.45859538,  0.39062689,  0.38874499],\n",
       "        [ 0.73540527,  0.40765603,  0.53288178,  0.81200076,\n",
       "          0.76680738,  0.80128749, -0.00135498],\n",
       "        [ 0.8803877 ,  0.63749191,  1.02430862,  0.29331698,\n",
       "          0.79133715,  0.12058692,  0.67830046],\n",
       "        [ 0.22797912,  0.65406778,  0.79693697,  0.61445127,\n",
       "          0.51281421,  0.16940586,  0.76730466],\n",
       "        [ 0.72473318,  0.79781994,  0.94011371,  0.99157148,\n",
       "          0.63314758,  0.08812395,  0.35303988]],\n",
       "\n",
       "       [[ 0.45316637,  0.3017016 ,  0.44782795,  0.37132865,\n",
       "          0.48864767,  0.44449342,  0.4569902 ],\n",
       "        [ 0.517868  ,  0.5264026 ,  0.62345217,  0.73201396,\n",
       "          0.47682641,  0.28091812,  0.53821093],\n",
       "        [ 0.49873121,  0.45691845,  0.64629043,  0.48282285,\n",
       "          0.59099314,  0.4738787 ,  0.80038502],\n",
       "        [ 0.41447041,  0.16212169,  0.29834288,  0.27476746,\n",
       "          0.48382728,  0.64839258,  0.48372022],\n",
       "        [ 0.42080792,  0.03007536,  0.11240708,  0.26442253,\n",
       "          0.40423511,  0.7023987 ,  0.2537592 ],\n",
       "        [ 0.37181143,  0.28567813,  0.31746125,  0.57751422,\n",
       "          0.33412577,  0.43779698,  0.50329383]]])"
      ]
     },
     "execution_count": 15,
     "metadata": {},
     "output_type": "execute_result"
    }
   ],
   "source": [
    "tensor_full = tensor_cpd.reconstruct\n",
    "\n",
    "print(type(tensor_full))\n",
    "tensor_full.describe()\n",
    "tensor_full.data"
   ]
  },
  {
   "cell_type": "markdown",
   "metadata": {},
   "source": [
    "The **``TensorCPD``** object also contains general information about the underlying tensor, such as its **``rank``** and **``order``**.\n",
    "\n",
    "> **Note:** The **``rank``** is returned as a tuple. Select its first element to have it as an integer.\n"
   ]
  },
  {
   "cell_type": "code",
   "execution_count": 23,
   "metadata": {},
   "outputs": [
    {
     "name": "stdout",
     "output_type": "stream",
     "text": [
      "The rank of the underlying tensor is 5, and the order is 3\n"
     ]
    }
   ],
   "source": [
    "R = tensor_cpd.rank\n",
    "N = tensor_cpd.order\n",
    "\n",
    "print('The rank of the underlying tensor is {}, and the order is {}'.format(R[0],N))"
   ]
  },
  {
   "cell_type": "markdown",
   "metadata": {},
   "source": [
    "# Tucker form and **TensorTKD** class\n",
    "\n",
    "![tensortkd](./images/TensorTKD.png)\n",
    "\n",
    "For a tensor $\\mathbf{\\underline{X}} \\in \\mathbb{R}^{I \\times J \\times K}$ illustrated above, the tucker form\n",
    "represents it as a dense core tensor $\\mathbf{\\underline{G}}$ with multi-linear rank ($Q, R, P$) and a set of\n",
    "factor matrices $\\mathbf{A} \\in \\mathbb{R}^{I \\times Q}, \\mathbf{B} \\in \\mathbb{R}^{J \\times R}$ and $\\mathbf{C} \\in\n",
    "\\mathbb{R}^{K \\times P}$.\n",
    "\n",
    "The tucker form of a tensor is closely related to the CP form and can be expressed through a \n",
    "sequence of mode-$n$ products in a similar way.\n",
    "\n",
    "$$\n",
    "\\mathbf{\\underline{X}} = \\mathbf{\\underline{G}} \\times_1 \\mathbf{A} \\times_2 \\mathbf{B} \\times_3 \\mathbf{C} = \\Big[\\mathbf{\\underline{G}}; \\mathbf{A}, \\mathbf{B}, \\mathbf{C} \\Big]\n",
    "$$\n",
    "\n",
    "In **``hottbox``** this form is available through the **``TensorTKD``** class.\n",
    "In order to create such object from its factor matrices and core tenosr, you need to pass a list of factor matrices (2d ``numpy`` arrays) and values for the core tensor (as n-dimensional ``numpy`` array)\n",
    "\n",
    "```python\n",
    "tensor_tkd = TensorTKD(fmat=[A, B, C], core_values=values)\n",
    "```\n",
    "\n",
    "See **Efficient representation of multidimensional arrays** for further details on this approach.\n"
   ]
  },
  {
   "cell_type": "markdown",
   "metadata": {},
   "source": []
  },
  {
   "cell_type": "code",
   "execution_count": null,
   "metadata": {},
   "outputs": [],
   "source": []
  },
  {
   "cell_type": "code",
   "execution_count": null,
   "metadata": {},
   "outputs": [],
   "source": []
  },
  {
   "cell_type": "markdown",
   "metadata": {},
   "source": [
    "## Tucker representation through Higher Order Sindular Value Decomposition (HOSVD)"
   ]
  },
  {
   "cell_type": "code",
   "execution_count": 4,
   "metadata": {},
   "outputs": [
    {
     "data": {
      "text/plain": [
       "hottbox.core.structures.TensorTKD"
      ]
     },
     "execution_count": 4,
     "metadata": {},
     "output_type": "execute_result"
    }
   ],
   "source": [
    "hosvd = HOSVD()\n",
    "ml_rank = (4,5,6)\n",
    "\n",
    "tensor_tkd_hosvd = hosvd.decompose(tensor, ml_rank)\n",
    "type(tensor_tkd_hosvd)"
   ]
  },
  {
   "cell_type": "markdown",
   "metadata": {},
   "source": [
    "## Tucker representation through Higher Order Orthogonal Iteration (HOOI)"
   ]
  },
  {
   "cell_type": "code",
   "execution_count": 5,
   "metadata": {},
   "outputs": [
    {
     "data": {
      "text/plain": [
       "hottbox.core.structures.TensorTKD"
      ]
     },
     "execution_count": 5,
     "metadata": {},
     "output_type": "execute_result"
    }
   ],
   "source": [
    "hooi = HOOI()\n",
    "ml_rank = (4,5,6)\n",
    "\n",
    "tensor_tkd_hooi = hosvd.decompose(tensor, ml_rank)\n",
    "type(tensor_tkd_hooi)"
   ]
  },
  {
   "cell_type": "markdown",
   "metadata": {},
   "source": [
    "## Tensor Train Decomposition via SVD"
   ]
  },
  {
   "cell_type": "code",
   "execution_count": 6,
   "metadata": {},
   "outputs": [
    {
     "data": {
      "text/plain": [
       "hottbox.core.structures.TensorTT"
      ]
     },
     "execution_count": 6,
     "metadata": {},
     "output_type": "execute_result"
    }
   ],
   "source": [
    "tt = TTSVD()\n",
    "tt_rank = (2,3)\n",
    "\n",
    "tensor_tt = tt.decompose(tensor, tt_rank)\n",
    "type(tensor_tt)"
   ]
  },
  {
   "cell_type": "markdown",
   "metadata": {},
   "source": [
    "## Evaluating results of tensor decompositions\n",
    "\n",
    "For each result of the tensor decomposition we can compute a residual tensor and calculate relative error of approximation:\n",
    "```python\n",
    "    tensor_res = residual_tensor(tensor, tensor_cpd)\n",
    "    rel_error = tensor_res.frob_norm / tensor.frob_norm        \n",
    "```\n",
    "Or can do it in one line:\n",
    "```python\n",
    "    rel_error = residual_rel_error(tensor, tensor_cpd)\n",
    "```\n",
    "\n"
   ]
  },
  {
   "cell_type": "code",
   "execution_count": 7,
   "metadata": {},
   "outputs": [
    {
     "name": "stdout",
     "output_type": "stream",
     "text": [
      "Residual tensor is instance of <class 'hottbox.core.structures.Tensor'>\n"
     ]
    }
   ],
   "source": [
    "tensor_cpd_res = residual_tensor(tensor, tensor_cpd)\n",
    "print('Residual tensor is instance of {}'.format(type(tensor_cpd_res)))"
   ]
  },
  {
   "cell_type": "code",
   "execution_count": 8,
   "metadata": {},
   "outputs": [
    {
     "name": "stdout",
     "output_type": "stream",
     "text": [
      "Relative error of CPD approximation = 0.31\n",
      "Relative error of CPD approximation = 0.31\n"
     ]
    }
   ],
   "source": [
    "rel_error = tensor_cpd_res.frob_norm / tensor.frob_norm \n",
    "print('Relative error of CPD approximation = {:.2f}'.format(rel_error))\n",
    "\n",
    "rel_error = residual_rel_error(tensor, tensor_cpd)\n",
    "print('Relative error of CPD approximation = {:.2f}'.format(rel_error))"
   ]
  },
  {
   "cell_type": "code",
   "execution_count": 9,
   "metadata": {},
   "outputs": [
    {
     "name": "stdout",
     "output_type": "stream",
     "text": [
      "Relative error of HOSVD approximation = 0.21\n"
     ]
    }
   ],
   "source": [
    "rel_error = residual_rel_error(tensor, tensor_tkd_hosvd)\n",
    "print('Relative error of HOSVD approximation = {:.2f}'.format(rel_error))"
   ]
  },
  {
   "cell_type": "code",
   "execution_count": 10,
   "metadata": {},
   "outputs": [
    {
     "name": "stdout",
     "output_type": "stream",
     "text": [
      "Relative error of HOOI approximation = 0.21\n"
     ]
    }
   ],
   "source": [
    "rel_error = residual_rel_error(tensor, tensor_tkd_hooi)\n",
    "print('Relative error of HOOI approximation = {:.2f}'.format(rel_error))"
   ]
  },
  {
   "cell_type": "code",
   "execution_count": 11,
   "metadata": {},
   "outputs": [
    {
     "name": "stdout",
     "output_type": "stream",
     "text": [
      "Relative error of TT approximation = 0.39\n"
     ]
    }
   ],
   "source": [
    "rel_error = residual_rel_error(tensor, tensor_tt)\n",
    "print('Relative error of TT approximation = {:.2f}'.format(rel_error))"
   ]
  }
 ],
 "metadata": {
  "kernelspec": {
   "display_name": "Python 3",
   "language": "python",
   "name": "python3"
  },
  "language_info": {
   "codemirror_mode": {
    "name": "ipython",
    "version": 3
   },
   "file_extension": ".py",
   "mimetype": "text/x-python",
   "name": "python",
   "nbconvert_exporter": "python",
   "pygments_lexer": "ipython3",
   "version": "3.6.0"
  }
 },
 "nbformat": 4,
 "nbformat_minor": 2
}
