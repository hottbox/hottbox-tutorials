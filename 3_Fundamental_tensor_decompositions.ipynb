{
 "cells": [
  {
   "cell_type": "markdown",
   "metadata": {},
   "source": [
    "# Fundamental tensor decompositions.\n",
    "### Last modification (13.05.2018)\n",
    "\n",
    "\n",
    "In this tutorial we provide a theoretical backgound on the fundamental tensor\n",
    "decompositions of multidimensional arrays and show how these data algorithms\n",
    "can be used with [hottbox](https://github.com/hottbox/hottbox) through **CPD**, **HOSVD**, **HOOI** and **TTSVD** classes.\n",
    "\n",
    "More details on **CPD**, **HOSVD**, **HOOI** and **TTSVD** classes can be found on the [documentation page](https://hottbox.github.io/stable/api/hottbox.algorithms.decomposition).\n",
    "\n",
    "> **Note:** this tutorial assumes that you are familiar with the basics of \n",
    "tensor algebra, tensor representaitons in different forms and the corresponding conventional \n",
    "notation. If you are new to these topics, check out our previous tutorials:\n",
    "[tutorial_1](https://github.com/hottbox/hottbox-tutorials/blob/master/1_N-dimensional_arrays_and_Tensor_class.ipynb) and \n",
    "[tutorial_2](https://github.com/hottbox/hottbox-tutorials/blob/master/2_Efficient_representations_of_tensors.ipynb).\n",
    "\n",
    "**Requirements:** ``hottbox>=0.1.2``\n",
    "\n",
    "**Author:** Ilya Kisil - ilyakisil@gmail.com"
   ]
  },
  {
   "cell_type": "code",
   "execution_count": 1,
   "metadata": {},
   "outputs": [],
   "source": [
    "import numpy as np\n",
    "from hottbox.core import Tensor, residual_tensor\n",
    "from hottbox.algorithms.decomposition import TTSVD, HOSVD, HOOI, CPD\n",
    "from hottbox.metrics import residual_rel_error"
   ]
  },
  {
   "cell_type": "markdown",
   "metadata": {},
   "source": [
    "# Fundamental tensor decompositions and their implementation\n",
    "\n",
    "The following algorithms have been implemented in **``hottbox>=0.1.2``**:\n",
    "\n",
    "- CPD: produces instance of **TensorCPD** class\n",
    "- HOSVD: produces instance of **TensorTKD** class\n",
    "- HOOI: produces instance of **TensorTKD** class\n",
    "- TTSVD: produces instance of **TensorTT** class\n",
    "\n",
    "> **Note:** more background is coming soon"
   ]
  },
  {
   "cell_type": "markdown",
   "metadata": {},
   "source": [
    "In this tutorial we use the following randomly generated $3$-rd order tensor for our examples."
   ]
  },
  {
   "cell_type": "code",
   "execution_count": 2,
   "metadata": {},
   "outputs": [],
   "source": [
    "np.random.seed(0)\n",
    "I, J, K = 5, 6, 7\n",
    "\n",
    "# array_3d = np.arange(I * J * K).reshape((I, J, K)).astype(np.float)\n",
    "array_3d = np.random.rand(I * J * K).reshape((I, J, K)).astype(np.float)\n",
    "\n",
    "tensor = Tensor(array_3d)"
   ]
  },
  {
   "cell_type": "markdown",
   "metadata": {},
   "source": [
    "# Canonical Polyadic Decomposition (CPD)\n",
    "![tensorcpd](./images/TensorCPD.png)"
   ]
  },
  {
   "cell_type": "markdown",
   "metadata": {},
   "source": [
    "The CPD decomposition (also referred to as PARAFAC or CANDECOMP) factorizes an $N$-th order tensor $\\mathbf{\\underline{X}} \\in \\mathbb{R}^{I_1 \\times I_2 \\times \\cdots \\times I_N}$ into a linear combination of terms $\\mathbf{b}_r^{(1)} \\circ \\mathbf{b}_r^{(2)} \\circ \\cdots \\circ \\mathbf{b}_r^{(N)}$, which are rank-$1$ tensors. In other words the tensor $\\mathbf{\\underline{X}}$ is decomposed as\n",
    "\n",
    "\\begin{equation}\n",
    "\\begin{aligned}\n",
    "\\mathbf{\\underline{X}} & \\simeq \\sum_{r=1}^{R} \\lambda_r \\mathbf{a}_r^{(1)} \\circ \\mathbf{a}_r^{(2)} \\circ \\cdots \\circ \\mathbf{a}_r^{(N)}\\\\\n",
    "& = \\mathbf{\\underline{\\Lambda}} \\times_1 \\mathbf{\\underline{A}}^{(1)} \\times_2 \\mathbf{\\underline{A}}^{(2)} \\cdots \\times_N \\mathbf{\\underline{A}}^{(N)} \\\\\n",
    "& = \\Big[    \\mathbf{\\underline{\\Lambda}} ;  \\mathbf{\\underline{A}}^{(1)} ,  \\mathbf{\\underline{A}}^{(2)}, \\dots, \\mathbf{\\underline{A}}^{(N)}         \\Big]\n",
    "\\end{aligned}\n",
    "\\end{equation}\n",
    "where $\\mathbf{\\underline{A}^{(N)}}  = \\Big[    \\mathbf{a}^{(n)}_1 \\hspace{2mm} \\mathbf{a}^{(n)}_2  \\cdots \\mathbf{a}^{(n)}_R   \\Big] $ i.e. the concatenation of the corresponding vectors. In case of $3$-rd order tensors, for convention, we let $ \\mathbf{A} \\colon = \\mathbf{A}^{(1)}$,  $\\mathbf{A} \\colon = \\mathbf{A}^{(2)}$, $\\mathbf{C} \\colon = \\mathbf{A}^{(3)}$. $\\mathbf{\\underline{\\Lambda}}$ is an $N$-th order tensor having $\\lambda_r$ as entries in positions $\\mathbf{\\underline{\\Lambda}}(i_1, i_2, \\dots, i_N)$, where $i_1 = i_2 = \\cdots = i_N$, and zeroes elsewhere. \n"
   ]
  },
  {
   "cell_type": "markdown",
   "metadata": {},
   "source": [
    "In **``hottbox``** this form is available through the **``TensorCPD``** class.\n",
    "In order to create such object, you have 2 options:\n",
    "\n",
    "\n",
    "1) (See $\\textit{Efficient representation of multidimensional arrays}$\n",
    ") Pass a list of factor matrices (2d ``numpy`` arrays) and a vector of values (as 1d ``numpy`` array) for the main diagonal:\n",
    "\n",
    "```python\n",
    "tensor_cpd = TensorCPD(fmat=[A, B, C], core_values=values)\n",
    "```\n",
    "\n",
    "2) Decompose an original tensor using class CPD\n",
    "\n",
    "In this tutorial, we focus on point (2).\n"
   ]
  },
  {
   "cell_type": "markdown",
   "metadata": {},
   "source": [
    "To decompose a tensor using the CPD decomposition we create an instance of the CPD class and set a Kruskal rank $R$. The Kruskal rank is passed as a tuple so to keep the same format with other tensor decompositions."
   ]
  },
  {
   "cell_type": "code",
   "execution_count": 3,
   "metadata": {},
   "outputs": [
    {
     "data": {
      "text/plain": [
       "hottbox.core.structures.TensorCPD"
      ]
     },
     "execution_count": 3,
     "metadata": {},
     "output_type": "execute_result"
    }
   ],
   "source": [
    "cpd = CPD()\n",
    "R = (5,)\n",
    "\n",
    "tensor_cpd = cpd.decompose(tensor, R)\n",
    "type(tensor_cpd)"
   ]
  },
  {
   "cell_type": "markdown",
   "metadata": {},
   "source": [
    "A **``TensorCPD``** object contains the $\\mathbf{\\underline{\\Lambda}}$ values stored in property **``core``**, while the factor matrices $\\mathbf{A}^{(n)}$ are stored in property **``fmat``**."
   ]
  },
  {
   "cell_type": "code",
   "execution_count": 13,
   "metadata": {},
   "outputs": [
    {
     "name": "stdout",
     "output_type": "stream",
     "text": [
      "Factor matrices\n",
      "Mode-0 factor matrix is of shape (5, 5)\n",
      "Mode-1 factor matrix is of shape (6, 5)\n",
      "Mode-2 factor matrix is of shape (7, 5)\n",
      "\n",
      "Core tensor\n",
      "<class 'hottbox.core.structures.Tensor'>\n",
      "This tensor is of order 3, consists of 125 elements and its Frobenious norm = 2.24.\n",
      "Sizes and names of its modes are (5, 5, 5) and {0: 'mode-0', 1: 'mode-1', 2: 'mode-2'} respectively.\n"
     ]
    },
    {
     "data": {
      "text/plain": [
       "array([[[1., 0., 0., 0., 0.],\n",
       "        [0., 0., 0., 0., 0.],\n",
       "        [0., 0., 0., 0., 0.],\n",
       "        [0., 0., 0., 0., 0.],\n",
       "        [0., 0., 0., 0., 0.]],\n",
       "\n",
       "       [[0., 0., 0., 0., 0.],\n",
       "        [0., 1., 0., 0., 0.],\n",
       "        [0., 0., 0., 0., 0.],\n",
       "        [0., 0., 0., 0., 0.],\n",
       "        [0., 0., 0., 0., 0.]],\n",
       "\n",
       "       [[0., 0., 0., 0., 0.],\n",
       "        [0., 0., 0., 0., 0.],\n",
       "        [0., 0., 1., 0., 0.],\n",
       "        [0., 0., 0., 0., 0.],\n",
       "        [0., 0., 0., 0., 0.]],\n",
       "\n",
       "       [[0., 0., 0., 0., 0.],\n",
       "        [0., 0., 0., 0., 0.],\n",
       "        [0., 0., 0., 0., 0.],\n",
       "        [0., 0., 0., 1., 0.],\n",
       "        [0., 0., 0., 0., 0.]],\n",
       "\n",
       "       [[0., 0., 0., 0., 0.],\n",
       "        [0., 0., 0., 0., 0.],\n",
       "        [0., 0., 0., 0., 0.],\n",
       "        [0., 0., 0., 0., 0.],\n",
       "        [0., 0., 0., 0., 1.]]])"
      ]
     },
     "execution_count": 13,
     "metadata": {},
     "output_type": "execute_result"
    }
   ],
   "source": [
    "print('Factor matrices')\n",
    "for mode, fmat in enumerate(tensor_cpd.fmat):\n",
    "    print('Mode-{} factor matrix is of shape {}'.format(mode, fmat.shape))\n",
    "    \n",
    "print('\\nCore tensor')\n",
    "print(type(tensor_cpd.core))\n",
    "tensor_cpd.core.describe()\n",
    "tensor_cpd.core.data"
   ]
  },
  {
   "cell_type": "markdown",
   "metadata": {},
   "source": [
    "In order to convert **``TensorCPD``** into the full representation, simply call: \n",
    "\n",
    "```python\n",
    "tensor_cpd.reconstruct\n",
    "```\n",
    "\n",
    "This returns an object of the **``Tensor``** class with N-dimensional array calculated as \n",
    "described above and being assinged to the **``_data``** attibute."
   ]
  },
  {
   "cell_type": "code",
   "execution_count": 15,
   "metadata": {},
   "outputs": [
    {
     "name": "stdout",
     "output_type": "stream",
     "text": [
      "<class 'hottbox.core.structures.Tensor'>\n",
      "This tensor is of order 3, consists of 210 elements and its Frobenious norm = 7.89.\n",
      "Sizes and names of its modes are (5, 6, 7) and {0: 'mode-0', 1: 'mode-1', 2: 'mode-2'} respectively.\n"
     ]
    },
    {
     "data": {
      "text/plain": [
       "array([[[ 0.4601365 ,  0.38423614,  0.48859033,  0.62131001,\n",
       "          0.54691852,  0.58361213,  0.49159456],\n",
       "        [ 0.67292687,  0.59403672,  0.72678594,  0.81013743,\n",
       "          0.55605843,  0.32617485,  0.70367859],\n",
       "        [ 0.18032852,  0.2861196 ,  0.27910407,  0.76039979,\n",
       "          0.48426828,  0.95862907,  0.76088009],\n",
       "        [ 0.94275828,  0.47486318,  0.84605741,  0.22145674,\n",
       "          0.74691123,  0.33027761,  0.85913182],\n",
       "        [ 0.45441219,  0.43541838,  0.44517452,  0.96472375,\n",
       "          0.58478457,  0.73463438,  0.17714534],\n",
       "        [ 0.45427474,  0.46247196,  0.48368908,  0.86823801,\n",
       "          0.42910584,  0.48006745,  0.61487742]],\n",
       "\n",
       "       [[ 0.47081601,  0.39236953,  0.48652466,  0.50159374,\n",
       "          0.34103943,  0.12672599,  0.42371199],\n",
       "        [ 0.29345678,  0.40894483,  0.37908318,  0.78503303,\n",
       "          0.27212222,  0.27169589,  0.40563341],\n",
       "        [ 0.4420933 ,  0.29975187,  0.45217461,  0.22632031,\n",
       "          0.27859889,  0.13801009,  0.94171161],\n",
       "        [ 0.01498676,  0.24786276,  0.0844294 ,  0.89393356,\n",
       "          0.19967897,  0.58802092,  0.16166343],\n",
       "        [ 0.91076881,  0.58724627,  0.81590211,  0.55693963,\n",
       "          0.5490293 , -0.06358466,  0.32232241],\n",
       "        [ 0.33823591,  0.32545425,  0.34133127,  0.5759124 ,\n",
       "          0.24138596,  0.22856314,  0.50931255]],\n",
       "\n",
       "       [[ 0.48659283,  0.19642773,  0.45382688,  0.07685709,\n",
       "          0.6560565 ,  0.67656229,  0.50586642],\n",
       "        [ 0.5468369 ,  0.33369345,  0.48134738,  0.47530317,\n",
       "          0.54459852,  0.52581631,  0.48058783],\n",
       "        [ 0.7378477 ,  0.24904487,  0.54564687,  0.26161465,\n",
       "          0.88202595,  0.96151773,  0.41633592],\n",
       "        [ 0.71866826,  0.38832804,  0.77655633,  0.07931564,\n",
       "          0.86653609,  0.59785196,  0.65310837],\n",
       "        [ 0.50064368,  0.52490378,  0.81676185,  0.30383764,\n",
       "          0.72324416,  0.38970218,  0.72677154],\n",
       "        [ 0.6696495 ,  0.63127667,  0.79941551,  0.76557249,\n",
       "          0.63490261,  0.28347198,  0.47641221]],\n",
       "\n",
       "       [[ 0.38510936,  0.26436343,  0.40030296,  0.34078558,\n",
       "          0.48887554,  0.49933974,  0.39181717],\n",
       "        [ 0.55160744,  0.34524931,  0.45415136,  0.53700733,\n",
       "          0.45859538,  0.39062689,  0.38874499],\n",
       "        [ 0.73540527,  0.40765603,  0.53288178,  0.81200076,\n",
       "          0.76680738,  0.80128749, -0.00135498],\n",
       "        [ 0.8803877 ,  0.63749191,  1.02430862,  0.29331698,\n",
       "          0.79133715,  0.12058692,  0.67830046],\n",
       "        [ 0.22797912,  0.65406778,  0.79693697,  0.61445127,\n",
       "          0.51281421,  0.16940586,  0.76730466],\n",
       "        [ 0.72473318,  0.79781994,  0.94011371,  0.99157148,\n",
       "          0.63314758,  0.08812395,  0.35303988]],\n",
       "\n",
       "       [[ 0.45316637,  0.3017016 ,  0.44782795,  0.37132865,\n",
       "          0.48864767,  0.44449342,  0.4569902 ],\n",
       "        [ 0.517868  ,  0.5264026 ,  0.62345217,  0.73201396,\n",
       "          0.47682641,  0.28091812,  0.53821093],\n",
       "        [ 0.49873121,  0.45691845,  0.64629043,  0.48282285,\n",
       "          0.59099314,  0.4738787 ,  0.80038502],\n",
       "        [ 0.41447041,  0.16212169,  0.29834288,  0.27476746,\n",
       "          0.48382728,  0.64839258,  0.48372022],\n",
       "        [ 0.42080792,  0.03007536,  0.11240708,  0.26442253,\n",
       "          0.40423511,  0.7023987 ,  0.2537592 ],\n",
       "        [ 0.37181143,  0.28567813,  0.31746125,  0.57751422,\n",
       "          0.33412577,  0.43779698,  0.50329383]]])"
      ]
     },
     "execution_count": 15,
     "metadata": {},
     "output_type": "execute_result"
    }
   ],
   "source": [
    "tensor_full = tensor_cpd.reconstruct\n",
    "\n",
    "print(type(tensor_full))\n",
    "tensor_full.describe()\n",
    "tensor_full.data"
   ]
  },
  {
   "cell_type": "markdown",
   "metadata": {},
   "source": [
    "The **``TensorCPD``** object also contains general information about the underlying tensor, such as its **``rank``** and **``order``**.\n",
    "\n",
    "> **Note:** The **``rank``** is returned as a tuple. Select its first element to have it as an integer.\n"
   ]
  },
  {
   "cell_type": "code",
   "execution_count": 23,
   "metadata": {},
   "outputs": [
    {
     "name": "stdout",
     "output_type": "stream",
     "text": [
      "The rank of the underlying tensor is 5, and the order is 3\n"
     ]
    }
   ],
   "source": [
    "R = tensor_cpd.rank\n",
    "N = tensor_cpd.order\n",
    "\n",
    "print('The rank of the underlying tensor is {}, and the order is {}'.format(R[0],N))"
   ]
  },
  {
   "cell_type": "markdown",
   "metadata": {},
   "source": [
    "# Tucker Decomposition\n",
    "\n",
    "![tensortkd](./images/TensorTKD.png)\n",
    "\n",
    "For a tensor $\\mathbf{\\underline{X}} \\in \\mathbb{R}^{I \\times J \\times K}$ illustrated above, the tucker form\n",
    "represents it as a dense core tensor $\\mathbf{\\underline{G}}$ with multi-linear rank ($Q, R, P$) and a set of\n",
    "factor matrices $\\mathbf{A} \\in \\mathbb{R}^{I \\times Q}, \\mathbf{B} \\in \\mathbb{R}^{J \\times R}$ and $\\mathbf{C} \\in\n",
    "\\mathbb{R}^{K \\times P}$.\n",
    "\n",
    "The tucker form of a tensor is closely related to the CP form and can be expressed through a \n",
    "sequence of mode-$n$ products in a similar way.\n",
    "\n",
    "$$\n",
    "\\mathbf{\\underline{X}} = \\mathbf{\\underline{G}} \\times_1 \\mathbf{A} \\times_2 \\mathbf{B} \\times_3 \\mathbf{C} = \\Big[\\mathbf{\\underline{G}}; \\mathbf{A}, \\mathbf{B}, \\mathbf{C} \\Big]\n",
    "$$\n",
    "\n",
    "In **``hottbox``** this form is available through the **``TensorTKD``** class (see **Efficient representation of multidimensional arrays** for further details on this approach) or can be obtained by deocomposing an original tensor. In this tutorial we focus on the latter.\n",
    "\n",
    "\n",
    "\n",
    "There exist several methods to decompose a tensor in the Tucker format. The two most used ones are Higher Order Singular Value Decomposition (HOSVD), and Higher Order Orthogonal Iteration (HOOI), represented through the **``HOSVD``** and **``HOOI``** classes respectively."
   ]
  },
  {
   "cell_type": "markdown",
   "metadata": {},
   "source": [
    "## Tucker representation through Higher Order Singular Value Decomposition (HOSVD)"
   ]
  },
  {
   "cell_type": "markdown",
   "metadata": {},
   "source": [
    "Consider an $N$-th order tensor $\\mathbf{\\underline{X}} \\in \\mathbb{R}^{I_1 \\times I_2 \\times \\cdots \\times I_N}$, decomposed in the Tucker format as\n",
    "\n",
    "$$\n",
    "\\mathbf{\\underline{X}} = \\mathbf{\\underline{G}} \\times_1 \\mathbf{A}^{(1)} \\times_2 \\mathbf{A}^{(2)}  \\times_3 \\cdots \\times_N \\mathbf{A}^{(N)}  \n",
    "$$\n",
    "\n",
    "The HOSVD is a special case of the Tucker decomposition, in which all the factor matrices $\\mathbf{A}^{(n)} \\in \\mathbb{R}^{I_n \\times R_n}$ are contrained to be orthogonal, and are computed by the truncated SVD of the mode-$n$ unfolding of tensor $\\mathbf{\\underline{X}}$:\n",
    "\n",
    "$$\n",
    "\\begin{aligned}\n",
    "\\mathbf{X}_{(n)} &= \\mathbf{U}^{(n)}  \\mathbf{\\Sigma}^{(n)} \\mathbf{V}^{(n)T} \\\\\n",
    "\\mathbf{A}^{(n)} &= \\mathbf{U}^{(n)}_{1:r}\n",
    "\\end{aligned}\n",
    "$$\n",
    "\n",
    "where the subscript $1:r$ indicates the truncated $\\mathbf{U}^{(n)}$\n",
    "\n"
   ]
  },
  {
   "cell_type": "markdown",
   "metadata": {},
   "source": [
    "In order to decompose a tensor using HOSVD, an instance of the **``HOSVD``** class has to be created. Then, the tensor which has to be deocmposed is passed to the **``HOSVD``** instance along with its multilinear rank. The decomposition returns a **``TensorTKD``** object."
   ]
  },
  {
   "cell_type": "code",
   "execution_count": 26,
   "metadata": {},
   "outputs": [
    {
     "data": {
      "text/plain": [
       "hottbox.core.structures.TensorTKD"
      ]
     },
     "execution_count": 26,
     "metadata": {},
     "output_type": "execute_result"
    }
   ],
   "source": [
    "hosvd = HOSVD()\n",
    "ml_rank = (4,5,6)\n",
    "\n",
    "tensor_tkd_hosvd = hosvd.decompose(tensor, ml_rank)\n",
    "type(tensor_tkd_hosvd)"
   ]
  },
  {
   "cell_type": "markdown",
   "metadata": {},
   "source": [
    "A **``TensorTKD``** object contains the $\\mathbf{\\underline{G}}$ values stored in property **``core``**, while the factor matrices $\\mathbf{A}^{(n)}$ are stored in property **``fmat``**."
   ]
  },
  {
   "cell_type": "code",
   "execution_count": 27,
   "metadata": {},
   "outputs": [
    {
     "name": "stdout",
     "output_type": "stream",
     "text": [
      "Factor matrices\n",
      "Mode-0 factor matrix is of shape (5, 4)\n",
      "Mode-1 factor matrix is of shape (6, 5)\n",
      "Mode-2 factor matrix is of shape (7, 6)\n",
      "\n",
      "Core tensor\n",
      "<class 'hottbox.core.structures.Tensor'>\n",
      "This tensor is of order 3, consists of 120 elements and its Frobenious norm = 8.10.\n",
      "Sizes and names of its modes are (4, 5, 6) and {0: 'mode-0', 1: 'mode-1', 2: 'mode-2'} respectively.\n"
     ]
    },
    {
     "data": {
      "text/plain": [
       "array([[[ 7.31172042e+00, -1.46645203e-01,  3.53335975e-02,\n",
       "         -7.88128673e-05,  1.14780463e-02,  4.35025917e-02],\n",
       "        [-1.04406107e-01, -5.14904045e-01, -1.92002044e-01,\n",
       "         -3.63977877e-01,  5.16454742e-01,  3.85757488e-02],\n",
       "        [-3.46163346e-02, -1.49344607e-01, -5.10133374e-01,\n",
       "          1.70603967e-01, -3.13219291e-02, -2.63294842e-02],\n",
       "        [ 5.48666961e-02, -4.05708761e-01,  1.13646013e-01,\n",
       "          2.47707520e-01, -1.60923987e-02, -2.34339916e-01],\n",
       "        [ 2.31937771e-02,  5.18750873e-02, -7.83860515e-01,\n",
       "          4.80924253e-01, -3.56305213e-02, -9.29619821e-02]],\n",
       "\n",
       "       [[ 1.06615255e-01, -3.64312315e-02, -1.11172365e-01,\n",
       "          1.77369720e-01,  6.87554671e-01, -3.62268250e-02],\n",
       "        [ 2.34238852e-01,  1.29026380e+00, -1.69728926e-01,\n",
       "          1.60310421e-01,  2.75719853e-01,  1.80648769e-02],\n",
       "        [ 2.79885627e-01,  5.67385226e-01,  5.37410036e-01,\n",
       "         -1.37127413e-01, -3.18144928e-02, -3.20520574e-01],\n",
       "        [-2.96865619e-01, -3.37448233e-02,  6.21552014e-01,\n",
       "          3.42577233e-01, -6.29650838e-02,  2.03786626e-01],\n",
       "        [-4.19523316e-01, -2.02666118e-01,  5.44485864e-02,\n",
       "          4.31456388e-01,  3.79640230e-02,  6.20493991e-02]],\n",
       "\n",
       "       [[ 9.97202215e-03,  3.62365059e-01, -3.01125722e-02,\n",
       "         -6.30673039e-01, -1.95278400e-01,  2.45679439e-01],\n",
       "        [-4.70996594e-01, -2.40540196e-02,  4.94590757e-02,\n",
       "         -7.49938476e-01,  3.08009448e-02, -8.04697896e-02],\n",
       "        [ 4.70941582e-01,  6.24435644e-01,  3.28507390e-01,\n",
       "          4.56152394e-01,  4.95410773e-02,  1.28183804e-01],\n",
       "        [ 1.80239201e-01,  3.24658998e-01, -2.20975382e-01,\n",
       "         -1.38856602e-01, -5.56050701e-02, -4.34427139e-01],\n",
       "        [-3.94790051e-01, -2.62063450e-01, -9.46125174e-02,\n",
       "          6.45105526e-02, -7.37294594e-02,  8.22528198e-02]],\n",
       "\n",
       "       [[ 7.23347906e-02,  2.55327639e-01, -8.00638439e-01,\n",
       "          6.73795620e-02, -1.78388177e-01, -2.23473654e-01],\n",
       "        [-2.15239575e-02, -4.34807103e-01,  2.53496566e-01,\n",
       "          4.40673023e-01, -3.29375574e-01, -3.87165709e-01],\n",
       "        [ 1.99423958e-01,  5.07786822e-01, -3.67687353e-04,\n",
       "         -1.78793849e-01, -3.86218451e-01,  4.30778080e-02],\n",
       "        [-4.99917162e-01,  2.15240132e-01,  3.66367991e-01,\n",
       "          2.00820796e-01,  4.93259672e-02, -1.32309952e-02],\n",
       "        [ 1.07314703e-01, -7.25907189e-02,  2.39440713e-01,\n",
       "          2.36171972e-02, -3.73365047e-01, -6.32631895e-02]]])"
      ]
     },
     "execution_count": 27,
     "metadata": {},
     "output_type": "execute_result"
    }
   ],
   "source": [
    "print('Factor matrices')\n",
    "for mode, fmat in enumerate(tensor_tkd_hosvd.fmat):\n",
    "    print('Mode-{} factor matrix is of shape {}'.format(mode, fmat.shape))\n",
    "    \n",
    "print('\\nCore tensor')\n",
    "print(type(tensor_tkd_hosvd.core))\n",
    "tensor_tkd_hosvd.core.describe()\n",
    "tensor_tkd_hosvd.core.data"
   ]
  },
  {
   "cell_type": "markdown",
   "metadata": {},
   "source": [
    "In order to convert **``TensorTKD``** into the full representation, simply call: \n",
    "\n",
    "```python\n",
    "tensor_tkd.reconstruct\n",
    "```\n",
    "\n",
    "This returns an object of the **``Tensor``** class with N-dimensional array calculated as \n",
    "described above and being assinged to the **``_data``** attibute."
   ]
  },
  {
   "cell_type": "code",
   "execution_count": 31,
   "metadata": {},
   "outputs": [
    {
     "name": "stdout",
     "output_type": "stream",
     "text": [
      "<class 'hottbox.core.structures.Tensor'>\n",
      "This tensor is of order 3, consists of 210 elements and its Frobenious norm = 8.10.\n",
      "Sizes and names of its modes are (5, 6, 7) and {0: 'mode-0', 1: 'mode-1', 2: 'mode-2'} respectively.\n"
     ]
    },
    {
     "data": {
      "text/plain": [
       "array([[[ 0.49379477,  0.49100835,  0.38365552,  0.68367283,\n",
       "          0.54888764,  0.42611998,  0.5427561 ],\n",
       "        [ 0.75505547,  0.77791596,  0.58515515,  0.92860818,\n",
       "          0.76335682,  0.39896942,  0.92443275],\n",
       "        [ 0.14631415,  0.34672075,  0.1109151 ,  0.85108005,\n",
       "          0.64906075,  0.91733203,  0.94285073],\n",
       "        [ 0.82828896,  0.47559917,  0.83629282,  0.11499961,\n",
       "          0.69416814,  0.14801001,  0.87075668],\n",
       "        [ 0.38394455,  0.4517702 ,  0.35980714,  0.78997045,\n",
       "          0.41944724,  0.45716109, -0.01746523],\n",
       "        [ 0.55313908,  0.67628517,  0.5447842 ,  0.90858675,\n",
       "          0.61376985,  0.39624606,  0.49537961]],\n",
       "\n",
       "       [[ 0.69761707,  0.37777294,  0.71065422,  0.73184619,\n",
       "          0.19083283,  0.20350362,  0.17147377],\n",
       "        [ 0.35406242,  0.41800006,  0.41714766,  0.94156982,\n",
       "          0.09149978,  0.17724141,  0.25126181],\n",
       "        [ 0.65637626,  0.18630376,  0.46547082,  0.25855016,\n",
       "          0.18631341,  0.07767786,  0.67210369],\n",
       "        [ 0.13716654,  0.08996022,  0.36953046,  0.85652641,\n",
       "          0.16823366,  0.78279568,  0.09920553],\n",
       "        [ 0.97352775,  0.56439309,  0.95160711,  0.46287077,\n",
       "          0.55369416,  0.13635616,  0.36025053],\n",
       "        [ 0.11679098,  0.40994324,  0.13547087,  0.34021966,\n",
       "          0.40885748,  0.09223665,  0.64084877]],\n",
       "\n",
       "       [[ 0.424584  ,  0.13678935,  0.70241673,  0.15326708,\n",
       "          0.50675199,  0.55534502,  0.34553746],\n",
       "        [ 0.42063842,  0.16113254,  0.75481733,  0.40429489,\n",
       "          0.36798823,  0.55262448,  0.15863657],\n",
       "        [ 0.98023553,  0.24499111,  0.78653637,  0.46362043,\n",
       "          0.71556228,  0.89843979,  0.18751594],\n",
       "        [ 0.64010668,  0.63449784,  0.63592486,  0.21478232,\n",
       "          1.05911834,  0.47426415,  0.71067142],\n",
       "        [ 0.43485408,  0.47930596,  0.721705  ,  0.40511987,\n",
       "          0.74614814,  0.46693566,  0.90504567],\n",
       "        [ 0.53939979,  0.70105805,  0.58837029,  0.93827298,\n",
       "          0.60890357,  0.36265749,  0.64376888]],\n",
       "\n",
       "       [[ 0.32356817,  0.28061888,  0.52828365,  0.31487849,\n",
       "          0.60542172,  0.58518863,  0.29424985],\n",
       "        [ 0.45130293,  0.39998   ,  0.52665092,  0.52005158,\n",
       "          0.6964832 ,  0.68137338,  0.17037765],\n",
       "        [ 0.72587075,  0.30576314,  0.31413146,  0.60137466,\n",
       "          0.70528266,  0.8972394 ,  0.1461931 ],\n",
       "        [ 0.83935477,  0.62702835,  0.93074469,  0.17875477,\n",
       "          0.81119809,  0.11946112,  0.73667766],\n",
       "        [ 0.32050783,  0.64380325,  0.880371  ,  0.5646696 ,\n",
       "          0.65250852,  0.23603526,  0.58566323],\n",
       "        [ 0.67540559,  0.90875537,  0.79130021,  0.91739985,\n",
       "          0.6858335 ,  0.12188357,  0.4004696 ]],\n",
       "\n",
       "       [[ 0.5581059 ,  0.15569251,  0.58259282,  0.29104216,\n",
       "          0.24908406,  0.26555025,  0.49103596],\n",
       "        [ 0.52690657,  0.22175587,  0.80570831,  0.55251086,\n",
       "          0.04176504,  0.08430551,  0.69052617],\n",
       "        [ 0.51842877,  0.16601963,  0.84022012,  0.42080479,\n",
       "          0.49276371,  0.66959353,  0.81060917],\n",
       "        [ 0.2916065 ,  0.35448618,  0.15580888,  0.18154091,\n",
       "          0.89626316,  0.70683624,  0.59844365],\n",
       "        [ 0.50993799,  0.0894701 ,  0.03992344,  0.35194069,\n",
       "          0.47038887,  0.70909402,  0.48629815],\n",
       "        [ 0.18713299,  0.1742741 ,  0.07209494,  0.70668098,\n",
       "          0.34084163,  0.68031808,  0.77751311]]])"
      ]
     },
     "execution_count": 31,
     "metadata": {},
     "output_type": "execute_result"
    }
   ],
   "source": [
    "tensor_full = tensor_tkd_hosvd.reconstruct\n",
    "\n",
    "print(type(tensor_full))\n",
    "tensor_full.describe()\n",
    "tensor_full.data"
   ]
  },
  {
   "cell_type": "markdown",
   "metadata": {},
   "source": [
    "The **``TensorTKD``** object also contains general information about the underlying tensor, such as its **``rank``** and **``order``**.\n",
    "\n",
    "> **Note:** In the case of **``TensorTKD``**, the **``rank``** refers to the multilinear rank.\n"
   ]
  },
  {
   "cell_type": "code",
   "execution_count": 30,
   "metadata": {},
   "outputs": [
    {
     "name": "stdout",
     "output_type": "stream",
     "text": [
      "The multilinear rank of the underlying tensor is (4, 5, 6)\n",
      "The order of the underlying tensor is 3\n"
     ]
    }
   ],
   "source": [
    "mlrank = tensor_tkd_hosvd.rank\n",
    "N = tensor_tkd_hosvd.order\n",
    "\n",
    "print('The multilinear rank of the underlying tensor is {}'.format(mlrank))\n",
    "print('The order of the underlying tensor is {}'.format(N))"
   ]
  },
  {
   "cell_type": "markdown",
   "metadata": {},
   "source": [
    "## Tucker representation through Higher Order Orthogonal Iteration (HOOI)"
   ]
  },
  {
   "cell_type": "markdown",
   "metadata": {},
   "source": [
    "HOOI is another special case of the Tuker format. Like HOSVD, it decomposes a tensor into a core tensor and orthogonal factor matrices. The difference between the two lies in the fact that in HOOI the factor matrices are optimized iteratively using an Alternating Least Squares (ALS) approach. (In practice HOSVD is usually used within HOOI to initialize the factor matrices). In other words, for each mode we compute\n",
    "\n",
    "$$\n",
    "\\begin{aligned}\n",
    "&\\mathbf{\\underline{Y}} = \\mathbf{\\underline{X}} \\times_1 \\mathbf{A}^{(1)T} \\times_2 \\cdots \\times_{n-1} \\mathbf{A}^{(n-1)T} \\times_{n+1} \\mathbf{A}^{(n+1)} \\times \\cdots \\times_N \\mathbf{A}^{(N)} \\\\\n",
    "&\\mathbf{A}^{(n)} \\leftarrow R_n \\text{ leftmost singular vectors of } \\mathbf{Y}_{(n)}\n",
    "\\end{aligned}\n",
    "$$\n",
    "\n",
    "The above is repeated until convergence, then the core tensor $\\mathbf{\\underline{G}} \\in \\mathbb{R}^{R_1 \\times R_2 \\times \\cdots \\times R_N}$ is computed as\n",
    "\n",
    "$$\n",
    "\\mathbf{\\underline{G}} = \\mathbf{\\underline{X}} \\times_1 \\mathbf{A}^{(1)T}  \\times_2 \\mathbf{A}^{(2)T} \\times_3 \\cdots  \\times_N \\mathbf{A}^{(N)T}\n",
    "$$\n",
    "\n",
    "\n",
    "Although the **``hottbox``** implementation HOOI clearly takes the above into account, decomposing a tensor via HOOI follows analogous commands to decomposing it using HOSVD. \n",
    "\n",
    "First, an instance of the **``HOOI``** class is created, and an original tensor and the desired multilinear rank are passed to its **``.decompose()``** method. This returns a **``TensorTKD``** object.  \n",
    "\n",
    "\n"
   ]
  },
  {
   "cell_type": "code",
   "execution_count": 32,
   "metadata": {},
   "outputs": [
    {
     "data": {
      "text/plain": [
       "hottbox.core.structures.TensorTKD"
      ]
     },
     "execution_count": 32,
     "metadata": {},
     "output_type": "execute_result"
    }
   ],
   "source": [
    "hooi = HOOI()\n",
    "ml_rank = (4,5,6)\n",
    "\n",
    "tensor_tkd_hooi = hosvd.decompose(tensor, ml_rank)\n",
    "type(tensor_tkd_hooi)"
   ]
  },
  {
   "cell_type": "markdown",
   "metadata": {},
   "source": [
    "A **``TensorTKD``** object contains the $\\mathbf{\\underline{G}}$ values stored in property **``core``**, while the factor matrices $\\mathbf{A}^{(n)}$ are stored in property **``fmat``**."
   ]
  },
  {
   "cell_type": "code",
   "execution_count": 33,
   "metadata": {},
   "outputs": [
    {
     "name": "stdout",
     "output_type": "stream",
     "text": [
      "Factor matrices\n",
      "Mode-0 factor matrix is of shape (5, 4)\n",
      "Mode-1 factor matrix is of shape (6, 5)\n",
      "Mode-2 factor matrix is of shape (7, 6)\n",
      "\n",
      "Core tensor\n",
      "<class 'hottbox.core.structures.Tensor'>\n",
      "This tensor is of order 3, consists of 120 elements and its Frobenious norm = 8.10.\n",
      "Sizes and names of its modes are (4, 5, 6) and {0: 'mode-0', 1: 'mode-1', 2: 'mode-2'} respectively.\n"
     ]
    },
    {
     "data": {
      "text/plain": [
       "array([[[-7.31172042e+00,  1.46645203e-01, -3.53335975e-02,\n",
       "          7.88128673e-05,  1.14780463e-02, -4.35025917e-02],\n",
       "        [ 1.04406107e-01,  5.14904045e-01,  1.92002044e-01,\n",
       "          3.63977877e-01,  5.16454742e-01, -3.85757488e-02],\n",
       "        [ 3.46163346e-02,  1.49344607e-01,  5.10133374e-01,\n",
       "         -1.70603967e-01, -3.13219291e-02,  2.63294842e-02],\n",
       "        [-5.48666961e-02,  4.05708761e-01, -1.13646013e-01,\n",
       "         -2.47707520e-01, -1.60923987e-02,  2.34339916e-01],\n",
       "        [ 2.31937771e-02,  5.18750873e-02, -7.83860515e-01,\n",
       "          4.80924253e-01,  3.56305213e-02, -9.29619821e-02]],\n",
       "\n",
       "       [[ 1.06615255e-01, -3.64312315e-02, -1.11172365e-01,\n",
       "          1.77369720e-01, -6.87554671e-01, -3.62268250e-02],\n",
       "        [ 2.34238852e-01,  1.29026380e+00, -1.69728926e-01,\n",
       "          1.60310421e-01, -2.75719853e-01,  1.80648769e-02],\n",
       "        [ 2.79885627e-01,  5.67385226e-01,  5.37410036e-01,\n",
       "         -1.37127413e-01,  3.18144928e-02, -3.20520574e-01],\n",
       "        [-2.96865619e-01, -3.37448233e-02,  6.21552014e-01,\n",
       "          3.42577233e-01,  6.29650838e-02,  2.03786626e-01],\n",
       "        [ 4.19523316e-01,  2.02666118e-01, -5.44485864e-02,\n",
       "         -4.31456388e-01,  3.79640230e-02, -6.20493991e-02]],\n",
       "\n",
       "       [[ 9.97202215e-03,  3.62365059e-01, -3.01125722e-02,\n",
       "         -6.30673039e-01,  1.95278400e-01,  2.45679439e-01],\n",
       "        [-4.70996594e-01, -2.40540196e-02,  4.94590757e-02,\n",
       "         -7.49938476e-01, -3.08009448e-02, -8.04697896e-02],\n",
       "        [ 4.70941582e-01,  6.24435644e-01,  3.28507390e-01,\n",
       "          4.56152394e-01, -4.95410773e-02,  1.28183804e-01],\n",
       "        [ 1.80239201e-01,  3.24658998e-01, -2.20975382e-01,\n",
       "         -1.38856602e-01,  5.56050701e-02, -4.34427139e-01],\n",
       "        [ 3.94790051e-01,  2.62063450e-01,  9.46125174e-02,\n",
       "         -6.45105526e-02, -7.37294594e-02, -8.22528198e-02]],\n",
       "\n",
       "       [[-7.23347906e-02, -2.55327639e-01,  8.00638439e-01,\n",
       "         -6.73795620e-02, -1.78388177e-01,  2.23473654e-01],\n",
       "        [ 2.15239575e-02,  4.34807103e-01, -2.53496566e-01,\n",
       "         -4.40673023e-01, -3.29375574e-01,  3.87165709e-01],\n",
       "        [-1.99423958e-01, -5.07786822e-01,  3.67687353e-04,\n",
       "          1.78793849e-01, -3.86218451e-01, -4.30778080e-02],\n",
       "        [ 4.99917162e-01, -2.15240132e-01, -3.66367991e-01,\n",
       "         -2.00820796e-01,  4.93259672e-02,  1.32309952e-02],\n",
       "        [ 1.07314703e-01, -7.25907189e-02,  2.39440713e-01,\n",
       "          2.36171972e-02,  3.73365047e-01, -6.32631895e-02]]])"
      ]
     },
     "execution_count": 33,
     "metadata": {},
     "output_type": "execute_result"
    }
   ],
   "source": [
    "print('Factor matrices')\n",
    "for mode, fmat in enumerate(tensor_tkd_hooi.fmat):\n",
    "    print('Mode-{} factor matrix is of shape {}'.format(mode, fmat.shape))\n",
    "    \n",
    "print('\\nCore tensor')\n",
    "print(type(tensor_tkd_hooi.core))\n",
    "tensor_tkd_hooi.core.describe()\n",
    "tensor_tkd_hooi.core.data"
   ]
  },
  {
   "cell_type": "markdown",
   "metadata": {},
   "source": [
    "In order to convert **``TensorTKD``** into the full representation, simply call: \n",
    "\n",
    "```python\n",
    "tensor_tkd.reconstruct\n",
    "```\n",
    "\n",
    "This returns an object of the **``Tensor``** class with N-dimensional array calculated as \n",
    "described above and being assinged to the **``_data``** attibute."
   ]
  },
  {
   "cell_type": "code",
   "execution_count": 37,
   "metadata": {},
   "outputs": [
    {
     "name": "stdout",
     "output_type": "stream",
     "text": [
      "<class 'hottbox.core.structures.Tensor'>\n",
      "This tensor is of order 3, consists of 210 elements and its Frobenious norm = 8.10.\n",
      "Sizes and names of its modes are (5, 6, 7) and {0: 'mode-0', 1: 'mode-1', 2: 'mode-2'} respectively.\n"
     ]
    },
    {
     "data": {
      "text/plain": [
       "array([[[ 0.49379477,  0.49100835,  0.38365552,  0.68367283,\n",
       "          0.54888764,  0.42611998,  0.5427561 ],\n",
       "        [ 0.75505547,  0.77791596,  0.58515515,  0.92860818,\n",
       "          0.76335682,  0.39896942,  0.92443275],\n",
       "        [ 0.14631415,  0.34672075,  0.1109151 ,  0.85108005,\n",
       "          0.64906075,  0.91733203,  0.94285073],\n",
       "        [ 0.82828896,  0.47559917,  0.83629282,  0.11499961,\n",
       "          0.69416814,  0.14801001,  0.87075668],\n",
       "        [ 0.38394455,  0.4517702 ,  0.35980714,  0.78997045,\n",
       "          0.41944724,  0.45716109, -0.01746523],\n",
       "        [ 0.55313908,  0.67628517,  0.5447842 ,  0.90858675,\n",
       "          0.61376985,  0.39624606,  0.49537961]],\n",
       "\n",
       "       [[ 0.69761707,  0.37777294,  0.71065422,  0.73184619,\n",
       "          0.19083283,  0.20350362,  0.17147377],\n",
       "        [ 0.35406242,  0.41800006,  0.41714766,  0.94156982,\n",
       "          0.09149978,  0.17724141,  0.25126181],\n",
       "        [ 0.65637626,  0.18630376,  0.46547082,  0.25855016,\n",
       "          0.18631341,  0.07767786,  0.67210369],\n",
       "        [ 0.13716654,  0.08996022,  0.36953046,  0.85652641,\n",
       "          0.16823366,  0.78279568,  0.09920553],\n",
       "        [ 0.97352775,  0.56439309,  0.95160711,  0.46287077,\n",
       "          0.55369416,  0.13635616,  0.36025053],\n",
       "        [ 0.11679098,  0.40994324,  0.13547087,  0.34021966,\n",
       "          0.40885748,  0.09223665,  0.64084877]],\n",
       "\n",
       "       [[ 0.424584  ,  0.13678935,  0.70241673,  0.15326708,\n",
       "          0.50675199,  0.55534502,  0.34553746],\n",
       "        [ 0.42063842,  0.16113254,  0.75481733,  0.40429489,\n",
       "          0.36798823,  0.55262448,  0.15863657],\n",
       "        [ 0.98023553,  0.24499111,  0.78653637,  0.46362043,\n",
       "          0.71556228,  0.89843979,  0.18751594],\n",
       "        [ 0.64010668,  0.63449784,  0.63592486,  0.21478232,\n",
       "          1.05911834,  0.47426415,  0.71067142],\n",
       "        [ 0.43485408,  0.47930596,  0.721705  ,  0.40511987,\n",
       "          0.74614814,  0.46693566,  0.90504567],\n",
       "        [ 0.53939979,  0.70105805,  0.58837029,  0.93827298,\n",
       "          0.60890357,  0.36265749,  0.64376888]],\n",
       "\n",
       "       [[ 0.32356817,  0.28061888,  0.52828365,  0.31487849,\n",
       "          0.60542172,  0.58518863,  0.29424985],\n",
       "        [ 0.45130293,  0.39998   ,  0.52665092,  0.52005158,\n",
       "          0.6964832 ,  0.68137338,  0.17037765],\n",
       "        [ 0.72587075,  0.30576314,  0.31413146,  0.60137466,\n",
       "          0.70528266,  0.8972394 ,  0.1461931 ],\n",
       "        [ 0.83935477,  0.62702835,  0.93074469,  0.17875477,\n",
       "          0.81119809,  0.11946112,  0.73667766],\n",
       "        [ 0.32050783,  0.64380325,  0.880371  ,  0.5646696 ,\n",
       "          0.65250852,  0.23603526,  0.58566323],\n",
       "        [ 0.67540559,  0.90875537,  0.79130021,  0.91739985,\n",
       "          0.6858335 ,  0.12188357,  0.4004696 ]],\n",
       "\n",
       "       [[ 0.5581059 ,  0.15569251,  0.58259282,  0.29104216,\n",
       "          0.24908406,  0.26555025,  0.49103596],\n",
       "        [ 0.52690657,  0.22175587,  0.80570831,  0.55251086,\n",
       "          0.04176504,  0.08430551,  0.69052617],\n",
       "        [ 0.51842877,  0.16601963,  0.84022012,  0.42080479,\n",
       "          0.49276371,  0.66959353,  0.81060917],\n",
       "        [ 0.2916065 ,  0.35448618,  0.15580888,  0.18154091,\n",
       "          0.89626316,  0.70683624,  0.59844365],\n",
       "        [ 0.50993799,  0.0894701 ,  0.03992344,  0.35194069,\n",
       "          0.47038887,  0.70909402,  0.48629815],\n",
       "        [ 0.18713299,  0.1742741 ,  0.07209494,  0.70668098,\n",
       "          0.34084163,  0.68031808,  0.77751311]]])"
      ]
     },
     "execution_count": 37,
     "metadata": {},
     "output_type": "execute_result"
    }
   ],
   "source": [
    "tensor_full = tensor_tkd_hooi.reconstruct\n",
    "\n",
    "print(type(tensor_full))\n",
    "tensor_full.describe()\n",
    "tensor_full.data"
   ]
  },
  {
   "cell_type": "markdown",
   "metadata": {},
   "source": [
    "The **``TensorTKD``** object also contains general information about the underlying tensor, such as its **``rank``** and **``order``**.\n",
    "\n",
    "> **Note:** In the case of **``TensorTKD``**, the **``rank``** refers to the multilinear rank."
   ]
  },
  {
   "cell_type": "code",
   "execution_count": 36,
   "metadata": {},
   "outputs": [
    {
     "name": "stdout",
     "output_type": "stream",
     "text": [
      "The multilinear rank of the underlying tensor is (4, 5, 6)\n",
      "The order of the underlying tensor is 3\n"
     ]
    }
   ],
   "source": [
    "mlrank = tensor_tkd_hooi.rank\n",
    "N = tensor_tkd_hooi.order\n",
    "\n",
    "print('The multilinear rank of the underlying tensor is {}'.format(mlrank))\n",
    "print('The order of the underlying tensor is {}'.format(N))"
   ]
  },
  {
   "cell_type": "markdown",
   "metadata": {},
   "source": [
    "## Tensor Train Decomposition via SVD\n",
    "\n",
    "![tensortt](./images/TensorTT.png)"
   ]
  },
  {
   "cell_type": "markdown",
   "metadata": {},
   "source": [
    "Tensor trains (TTs) are the simplest kinds of tensor networks, i.e. a decomposition of a high-order tensor in a set of sparsely interconnected lower-order tensors and factor matrices. Mathematically, an $N$-th order tensor $\\mathbf{\\underline{X}} \\in \\mathbb{R}^{I_1 \\times I_2 \\times \\cdots \\times I_N}$ can be expressed as a TT as\n",
    "\n",
    "\\begin{equation}\n",
    "\\mathbf{\\underline{X}} = \\mathbf{A} \\times^1_2 \\mathbf{\\underline{G}}^{(1)}  \\times^1_3 \\mathbf{\\underline{G}}^{(2)}   \\times^1_3 \\cdots \\times^1_3 \\mathbf{\\underline{G}}^{(N-1)} \\times^1_3 \\mathbf{B} = \\Big[  \\mathbf{A}, \\mathbf{\\underline{G}}^{(1)}, \\mathbf{\\underline{G}}^{(2)}, \\cdots, \\mathbf{\\underline{G}}^{(N-1)}, \\mathbf{B}  \\Big]\n",
    "\\end{equation}\n",
    "\n",
    "Each element of a TT is generally referred to as $\\textit{core}$, and $\\mathbf{A} \\in \\mathbb{R}^{I_1 \\times R_1}$, $\\mathbf{B} \\in \\mathbb{R}^{R_{N-1}\\times I_N}$, $\\mathbf{\\underline{G}}^{(n)} \\in \\mathbb{R}^{R_n \\times I_{n+1} \\times R_{n+1}}$\n",
    "\n",
    "In **``hottbox``** this form is available through the **``TensorTT``** class (see **Efficient representation of multidimensional arrays**) or via a decomposition employing the Tensor Train SVD (TTSVD) algorithm. In this tutorial we focus on the latter. "
   ]
  },
  {
   "cell_type": "markdown",
   "metadata": {},
   "source": [
    "The TTSVD algorithm involves iteratively performing a series of foldings and unfoldings on an original tensor $\\mathbf{\\underline{X}} \\in \\mathbb{R}^{I_1 \\times I_2 \\times \\cdots \\times I_N}$ in conjunction with SVD. At every iteration a core $\\mathbf{\\underline{G}}^{(n)} \\in \\mathbb{R}^{R_n \\times I_{n+1} \\times R_{n+1}}$ is computed, where the TT-rank of the TT $(R_1, R_2, \\dots, R_N)$ has been specified a priori by the user. \n",
    "\n",
    "To decompose a tensor $\\mathbf{\\underline{X}}$ in a TT via the TTSVD algorithm, similarly with HOSVD and HOOI, we first create an instance of the class **``TTSVD``**. Within this instance the **``.decompose()``** method is called, which receives as parameters the original tensor and the TT-rank. The decomposition returns a **``TensorTT``** object."
   ]
  },
  {
   "cell_type": "code",
   "execution_count": 39,
   "metadata": {},
   "outputs": [
    {
     "data": {
      "text/plain": [
       "hottbox.core.structures.TensorTT"
      ]
     },
     "execution_count": 39,
     "metadata": {},
     "output_type": "execute_result"
    }
   ],
   "source": [
    "tt = TTSVD()\n",
    "tt_rank = (2,3)\n",
    "\n",
    "tensor_tt = tt.decompose(tensor, tt_rank)\n",
    "type(tensor_tt)"
   ]
  },
  {
   "cell_type": "markdown",
   "metadata": {},
   "source": [
    "A **``TensorTT``** object contains the cores $\\mathbf{\\underline{G}}^{(n)}$ stored in the property **``cores``**. Specifically, it returns a list containing all the cores."
   ]
  },
  {
   "cell_type": "code",
   "execution_count": 46,
   "metadata": {},
   "outputs": [
    {
     "name": "stdout",
     "output_type": "stream",
     "text": [
      "Core tensors\n",
      "Core 0 of shape (5, 2)\n",
      "Core 1 of shape (2, 6, 3)\n",
      "Core 2 of shape (3, 7)\n"
     ]
    }
   ],
   "source": [
    "print('Core tensors')\n",
    "for n, core in enumerate(tensor_tt.cores):\n",
    "    print('Core {} of shape {}'.format(n, core.shape))"
   ]
  },
  {
   "cell_type": "markdown",
   "metadata": {},
   "source": [
    "A specific core $n$ can also be accessed via the method **``.core()``** which receives $n$ as parameter\n",
    "\n",
    "\n",
    "```python\n",
    "tensor_tt.core(n)\n",
    "```\n"
   ]
  },
  {
   "cell_type": "code",
   "execution_count": 45,
   "metadata": {},
   "outputs": [
    {
     "name": "stdout",
     "output_type": "stream",
     "text": [
      "This tensor is of order 3, consists of 36 elements and its Frobenious norm = 1.73.\n",
      "Sizes and names of its modes are (2, 6, 3) and {0: 'mode-0', 1: 'mode-1', 2: 'mode-2'} respectively.\n"
     ]
    },
    {
     "data": {
      "text/plain": [
       "array([[[-3.45363942e-01,  6.91633539e-02,  1.47163743e-01],\n",
       "        [-3.99625113e-01, -7.72049028e-02, -3.49687378e-01],\n",
       "        [-4.27100595e-01, -2.84755430e-01,  3.20261689e-01],\n",
       "        [-4.30849457e-01,  3.10689814e-01,  3.92590104e-01],\n",
       "        [-4.02938580e-01, -2.73067115e-04, -9.96401253e-02],\n",
       "        [-4.27938190e-01, -1.03592524e-01, -3.65245864e-01]],\n",
       "\n",
       "       [[-3.30732887e-02,  2.97014571e-01, -2.02644734e-01],\n",
       "        [ 2.27815028e-04, -4.88289574e-03, -5.28279451e-01],\n",
       "        [-2.02657155e-02,  4.35268706e-01, -1.20441021e-01],\n",
       "        [ 1.97574567e-02, -7.18324111e-01, -2.81796432e-02],\n",
       "        [-5.68375471e-02,  5.93854499e-02,  7.67481314e-02],\n",
       "        [ 4.85931217e-02, -6.07785215e-02,  3.38673680e-01]]])"
      ]
     },
     "execution_count": 45,
     "metadata": {},
     "output_type": "execute_result"
    }
   ],
   "source": [
    "desired_core = tensor_tt.core(1)\n",
    "desired_core.describe()\n",
    "desired_core.data"
   ]
  },
  {
   "cell_type": "markdown",
   "metadata": {},
   "source": [
    "In order to convert **``TensorTT``** into the full representation, simply call: \n",
    "\n",
    "```python\n",
    "tensor_tt.reconstruct\n",
    "```\n",
    "\n",
    "This returns an object of the **``Tensor``** class with N-dimensional array calculated as \n",
    "described above and being assinged to the **``_data``** attibute."
   ]
  },
  {
   "cell_type": "code",
   "execution_count": 47,
   "metadata": {},
   "outputs": [
    {
     "name": "stdout",
     "output_type": "stream",
     "text": [
      "<class 'hottbox.core.structures.Tensor'>\n",
      "This tensor is of order 3, consists of 210 elements and its Frobenious norm = 7.64.\n",
      "Sizes and names of its modes are (5, 6, 7) and {0: 'mode-0', 1: 'mode-1', 2: 'mode-2'} respectively.\n"
     ]
    },
    {
     "data": {
      "text/plain": [
       "array([[[0.46083185, 0.31840353, 0.43962288, 0.400696  , 0.57679603,\n",
       "         0.52624231, 0.46231584],\n",
       "        [0.55629843, 0.45720105, 0.60233867, 0.64303109, 0.5900637 ,\n",
       "         0.50276186, 0.52787145],\n",
       "        [0.47415982, 0.35519694, 0.43450463, 0.6531003 , 0.76637386,\n",
       "         0.89193904, 0.4994085 ],\n",
       "        [0.85793225, 0.4996603 , 0.82086532, 0.16499666, 0.76405806,\n",
       "         0.3114782 , 0.82580747],\n",
       "        [0.52428703, 0.44339765, 0.58317602, 0.62055065, 0.52271656,\n",
       "         0.42259184, 0.4898069 ],\n",
       "        [0.61441113, 0.60325826, 0.75805194, 0.94085401, 0.5268105 ,\n",
       "         0.41117134, 0.54527913]],\n",
       "\n",
       "       [[0.53113227, 0.39632565, 0.59227679, 0.29836595, 0.35314379,\n",
       "         0.04773239, 0.47630675],\n",
       "        [0.33248824, 0.47063949, 0.5423968 , 0.86325978, 0.12052702,\n",
       "         0.04616461, 0.2428014 ],\n",
       "        [0.58322677, 0.39444659, 0.60298902, 0.26777147, 0.4817917 ,\n",
       "         0.1915537 , 0.54563666],\n",
       "        [0.17026671, 0.18441375, 0.1467585 , 0.62061127, 0.5013082 ,\n",
       "         0.79781397, 0.20673342],\n",
       "        [0.53902755, 0.4029899 , 0.56221927, 0.4635202 , 0.54506374,\n",
       "         0.40007998, 0.51405348],\n",
       "        [0.28988529, 0.19885124, 0.26523274, 0.28862193, 0.41183118,\n",
       "         0.42181721, 0.29915461]],\n",
       "\n",
       "       [[0.49576378, 0.34836316, 0.48993127, 0.39863341, 0.55867626,\n",
       "         0.45524724, 0.48614136],\n",
       "        [0.53721407, 0.48068406, 0.61786829, 0.71601007, 0.52375506,\n",
       "         0.43504605, 0.49533649],\n",
       "        [0.51739134, 0.37915765, 0.48772137, 0.60637179, 0.7447947 ,\n",
       "         0.79356547, 0.53131995],\n",
       "        [0.76053445, 0.45985271, 0.72447045, 0.26292043, 0.74670583,\n",
       "         0.42216753, 0.74055823],\n",
       "        [0.55108284, 0.45556703, 0.60556933, 0.61764335, 0.55095032,\n",
       "         0.43736517, 0.5169192 ],\n",
       "        [0.57798675, 0.55047459, 0.69477162, 0.85426299, 0.52797979,\n",
       "         0.43200447, 0.52126503]],\n",
       "\n",
       "       [[0.39861051, 0.26862561, 0.36047223, 0.38439448, 0.57098652,\n",
       "         0.5844124 , 0.41296839],\n",
       "        [0.55256991, 0.40849151, 0.55612254, 0.52796518, 0.63979306,\n",
       "         0.55820649, 0.54114496],\n",
       "        [0.40164415, 0.31069243, 0.35220359, 0.67706875, 0.75574601,\n",
       "         0.96494404, 0.43890632],\n",
       "        [0.9313876 , 0.52272613, 0.89488225, 0.04317617, 0.74861234,\n",
       "         0.16794301, 0.88660481],\n",
       "        [0.46858513, 0.40851712, 0.52985566, 0.59497033, 0.46541222,\n",
       "         0.38564798, 0.43534576],\n",
       "        [0.62817744, 0.63660996, 0.79641014, 0.99784445, 0.50085538,\n",
       "         0.36769866, 0.54781   ]],\n",
       "\n",
       "       [[0.51562632, 0.37787745, 0.55492856, 0.32796044, 0.41586564,\n",
       "         0.17728747, 0.47565021],\n",
       "        [0.39511736, 0.47009502, 0.56214222, 0.80943643, 0.24813568,\n",
       "         0.16979096, 0.32138845],\n",
       "        [0.55759175, 0.38643123, 0.56143531, 0.3736014 , 0.56181362,\n",
       "         0.38197856, 0.53672754],\n",
       "        [0.35711651, 0.27076852, 0.32979208, 0.50162122, 0.5755613 ,\n",
       "         0.67168795, 0.37529618],\n",
       "        [0.5385797 , 0.41654545, 0.57156503, 0.50897152, 0.54260095,\n",
       "         0.4087829 , 0.5108744 ],\n",
       "        [0.37943772, 0.30938226, 0.40007843, 0.46667724, 0.44558595,\n",
       "         0.42170695, 0.36759216]]])"
      ]
     },
     "execution_count": 47,
     "metadata": {},
     "output_type": "execute_result"
    }
   ],
   "source": [
    "tensor_full = tensor_tt.reconstruct\n",
    "\n",
    "print(type(tensor_full))\n",
    "tensor_full.describe()\n",
    "tensor_full.data"
   ]
  },
  {
   "cell_type": "markdown",
   "metadata": {},
   "source": [
    "The **``TensorTT``** object also contains general information about the underlying tensor, such as its **``rank``** and **``order``**.\n",
    "\n",
    "> **Note:** In the case of **``TensorTT``**, the **``rank``** refers to the  TT-rank."
   ]
  },
  {
   "cell_type": "code",
   "execution_count": 48,
   "metadata": {},
   "outputs": [
    {
     "name": "stdout",
     "output_type": "stream",
     "text": [
      "The TT-rank of the underlying tensor is (2, 3)\n",
      "The order of the underlying tensor is 3\n"
     ]
    }
   ],
   "source": [
    "mlrank = tensor_tt.rank\n",
    "N = tensor_tt.order\n",
    "\n",
    "print('The TT-rank of the underlying tensor is {}'.format(mlrank))\n",
    "print('The order of the underlying tensor is {}'.format(N))"
   ]
  },
  {
   "cell_type": "markdown",
   "metadata": {},
   "source": [
    "## Evaluating results of tensor decompositions\n",
    "\n",
    "For each result of the tensor decomposition we can compute a residual tensor and calculate relative error of approximation:\n",
    "```python\n",
    "    tensor_res = residual_tensor(tensor, tensor_cpd)\n",
    "    rel_error = tensor_res.frob_norm / tensor.frob_norm        \n",
    "```\n",
    "Or can do it in one line:\n",
    "```python\n",
    "    rel_error = residual_rel_error(tensor, tensor_cpd)\n",
    "```\n",
    "\n"
   ]
  },
  {
   "cell_type": "code",
   "execution_count": 7,
   "metadata": {},
   "outputs": [
    {
     "name": "stdout",
     "output_type": "stream",
     "text": [
      "Residual tensor is instance of <class 'hottbox.core.structures.Tensor'>\n"
     ]
    }
   ],
   "source": [
    "tensor_cpd_res = residual_tensor(tensor, tensor_cpd)\n",
    "print('Residual tensor is instance of {}'.format(type(tensor_cpd_res)))"
   ]
  },
  {
   "cell_type": "code",
   "execution_count": 8,
   "metadata": {},
   "outputs": [
    {
     "name": "stdout",
     "output_type": "stream",
     "text": [
      "Relative error of CPD approximation = 0.31\n",
      "Relative error of CPD approximation = 0.31\n"
     ]
    }
   ],
   "source": [
    "rel_error = tensor_cpd_res.frob_norm / tensor.frob_norm \n",
    "print('Relative error of CPD approximation = {:.2f}'.format(rel_error))\n",
    "\n",
    "rel_error = residual_rel_error(tensor, tensor_cpd)\n",
    "print('Relative error of CPD approximation = {:.2f}'.format(rel_error))"
   ]
  },
  {
   "cell_type": "code",
   "execution_count": 9,
   "metadata": {},
   "outputs": [
    {
     "name": "stdout",
     "output_type": "stream",
     "text": [
      "Relative error of HOSVD approximation = 0.21\n"
     ]
    }
   ],
   "source": [
    "rel_error = residual_rel_error(tensor, tensor_tkd_hosvd)\n",
    "print('Relative error of HOSVD approximation = {:.2f}'.format(rel_error))"
   ]
  },
  {
   "cell_type": "code",
   "execution_count": 10,
   "metadata": {},
   "outputs": [
    {
     "name": "stdout",
     "output_type": "stream",
     "text": [
      "Relative error of HOOI approximation = 0.21\n"
     ]
    }
   ],
   "source": [
    "rel_error = residual_rel_error(tensor, tensor_tkd_hooi)\n",
    "print('Relative error of HOOI approximation = {:.2f}'.format(rel_error))"
   ]
  },
  {
   "cell_type": "code",
   "execution_count": 11,
   "metadata": {},
   "outputs": [
    {
     "name": "stdout",
     "output_type": "stream",
     "text": [
      "Relative error of TT approximation = 0.39\n"
     ]
    }
   ],
   "source": [
    "rel_error = residual_rel_error(tensor, tensor_tt)\n",
    "print('Relative error of TT approximation = {:.2f}'.format(rel_error))"
   ]
  }
 ],
 "metadata": {
  "kernelspec": {
   "display_name": "Python 3",
   "language": "python",
   "name": "python3"
  },
  "language_info": {
   "codemirror_mode": {
    "name": "ipython",
    "version": 3
   },
   "file_extension": ".py",
   "mimetype": "text/x-python",
   "name": "python",
   "nbconvert_exporter": "python",
   "pygments_lexer": "ipython3",
   "version": "3.6.0"
  }
 },
 "nbformat": 4,
 "nbformat_minor": 2
}
